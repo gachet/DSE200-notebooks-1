{
 "cells": [
  {
   "cell_type": "markdown",
   "metadata": {},
   "source": [
    "# Restful Open Weathermap API\n",
    "\n",
    "In this notebook, we retrieve the hourly temperatue of san diego over 2013 and plot it.  We use the restful API for openweathermap.org."
   ]
  },
  {
   "cell_type": "code",
   "execution_count": 1,
   "metadata": {},
   "outputs": [
    {
     "name": "stdout",
     "output_type": "stream",
     "text": [
      "Populating the interactive namespace from numpy and matplotlib\n"
     ]
    }
   ],
   "source": [
    "%pylab inline\n",
    "import requests\n",
    "import datetime "
   ]
  },
  {
   "cell_type": "markdown",
   "metadata": {},
   "source": [
    "The [requests](http://docs.python-requests.org/en/latest/) library is a simple to use python library for executing http commands over the internet.  \n",
    "\n",
    "For example, we can create an http get command to download a website and then render it as html in our notebook."
   ]
  },
  {
   "cell_type": "code",
   "execution_count": 2,
   "metadata": {},
   "outputs": [
    {
     "name": "stdout",
     "output_type": "stream",
     "text": [
      "<class 'requests.models.Response'>\n"
     ]
    },
    {
     "data": {
      "text/plain": [
       "[]"
      ]
     },
     "execution_count": 2,
     "metadata": {},
     "output_type": "execute_result"
    }
   ],
   "source": [
    "req = requests.get(\"http://m.xkcd.com/\")\n",
    "print type(req)\n",
    "req.cookies.keys()"
   ]
  },
  {
   "cell_type": "code",
   "execution_count": 3,
   "metadata": {},
   "outputs": [
    {
     "data": {
      "text/html": [
       "<?xml version=\"1.0\" encoding=\"utf-8\" ?>\n",
       "<?xml-stylesheet href=\"/static/general.css\" type=\"text/css\" media=\"screen\" ?>\n",
       "<!DOCTYPE html PUBLIC \"-//WAPFORUM//DTD XHTML Mobile 1.2//EN\" \"http://www.openmobilealliance.org/tech/DTD/xhtml-mobile12.dtd\">\n",
       "<html xmlns=\"http://www.w3.org/1999/xhtml\">\n",
       " <head>\n",
       "  <title>xkcd: Twitter Verification</title>\n",
       "  <link rel=\"alternate\" type=\"application/atom+xml\" title=\"Atom 1.0\" href=\"http://m.xkcd.com/atom.xml\" />\n",
       "  <link rel=\"alternate\" type=\"application/rss+xml\" title=\"RSS 2.0\" href=\"http://m.xkcd.com/rss.xml\" />\n",
       "\n",
       "  <link rel=\"icon\" href=\"/static/favicon.ico\" type=\"image/x-icon\" />\n",
       "  <link rel=\"shortcut icon\" href=\"/static/favicon.ico\" type=\"image/x-icon\" />\n",
       "  \n",
       "  <link rel=\"stylesheet\" type=\"text/css\" href=\"/static/general.css\" media=\"screen\" title=\"Default\" />\n",
       "  <meta content=\"width=device-width, initial-scale=1.0\" name=\"viewport\" />\n",
       "  <script type=\"text/javascript\">\n",
       "  window.onload = function() {\n",
       "      updateFunction = function(){el = document.getElementById(\"altText\"); el.style.display = (el.style.display != \"none\" ? \"none\" : \"block\");}\n",
       "      document.getElementById(\"comic\").onclick = updateFunction;\n",
       "      document.getElementById(\"altTextLink\").onclick = updateFunction;\n",
       "      document.getElementById(\"altText\").style.display = \"none\";\n",
       "    }\n",
       "  </script>\n",
       "<script type=\"text/javascript\">\n",
       "  var _gaq = _gaq || [];\n",
       "  _gaq.push(['_setAccount', 'UA-25700708-7']);\n",
       "  _gaq.push(['_setDomainName', 'xkcd.com']);\n",
       "  _gaq.push(['_setAllowLinker', true]);\n",
       "  _gaq.push(['_trackPageview']);\n",
       "\n",
       "  (function() {\n",
       "    var ga = document.createElement('script'); ga.type = 'text/javascript'; ga.async = true;\n",
       "    ga.src = ('https:' == document.location.protocol ? 'https://ssl' : 'http://www') + '.google-analytics.com/ga.js';\n",
       "    var s = document.getElementsByTagName('script')[0]; s.parentNode.insertBefore(ga, s);\n",
       "  })();\n",
       "</script>\n",
       " \n",
       " </head>\n",
       " <body>\n",
       "\n",
       "<div id=\"comic\">\n",
       "<img id=\"comic\" src=\"//imgs.xkcd.com/comics/twitter_verification.png\" title=\"When we started distributing special status tokens that signify which people are important enough to join an elite group, we never could have imagined we might be creating some problems down the line.\" alt=\"Twitter Verification\" /><br/><br />\n",
       "</div>\n",
       "<div id=\"titleHolder\"><h1 id=\"title\">Twitter Verification</h1><sup id=\"altTextLink\">(alt-text)</sup></div>\n",
       "<p id=\"altText\">When we started distributing special status tokens that signify which people are important enough to join an elite group, we never could have imagined we might be creating some problems down the line.</p>\n",
       "<ul id=\"navButtons\">\n",
       " <li><a href=\"/1/\">|&lt;</a></li>\n",
       " <li><a href=\"/1913/\" accesskey=\"p\">&lt;</a></li>\n",
       " <li><a href=\"https://c.xkcd.com/random/mobile_comic/\" id=\"rnd_btn_b\">?</a></li>\n",
       " <li><a href=\"#\" accesskey=\"n\">&gt;</a></li>\n",
       " <li><a href=\"/\">&gt;|</a></li>\n",
       "</ul>\n",
       "\n",
       "<div id=\"news\">xkcd updates every Monday, Wednesday, and Friday.</div>\n",
       "<ul id=\"footerLinks\">\n",
       " <li><a href=\"/archive/\">Archive</a></li>\n",
       " <li><a href=\"http://store.xkcd.com/\">Store</a></li>\n",
       " <li><a href=\"http://what-if.xkcd.com/\">What If?</a></li>\n",
       " <li><a href=\"http://xkcd.com/about/\">About</a></li>\n",
       "</ul>\n",
       "</body>\n",
       "</html>\n",
       "\n"
      ],
      "text/plain": [
       "<IPython.core.display.HTML object>"
      ]
     },
     "execution_count": 3,
     "metadata": {},
     "output_type": "execute_result"
    }
   ],
   "source": [
    "from IPython.display import HTML\n",
    "HTML(req.text)"
   ]
  },
  {
   "cell_type": "markdown",
   "metadata": {},
   "source": [
    "Due to the prevelance of HTTP, many webservices now offer [Restful APIs](http://en.wikipedia.org/wiki/Representational_state_transfer) which are accessed via HTTP requests and return XML or JSON formatted data output.  A list of APIs is listed at [Programable Web](http://www.programmableweb.com/).  In additon, many developers of internal apps utilize the restful concept to ease integration of apps.\n",
    "\n",
    "One easy to understand Restful API is the [Open Weather Map](openweathermap.org) API.  We will use this API to download the daily temperature of San Diego from January 1, 2013 through December 31, 2013 to give an example of the usage of such an API."
   ]
  },
  {
   "cell_type": "markdown",
   "metadata": {},
   "source": [
    "### Open Weather Map\n",
    "\n",
    "As a first step we query the current weather in San Diego to see what the output looks like and get the city id for the historical lookup.  We use the request object's json method to convert the json output to a python Map which we can easily process.\n",
    "\n",
    "To do this we perform a http get on the URL **http://api.openweathermap.org/data/2.5/weather** which is the base url for the Open Weather Map's current weather resful API.  We pass the get parameter **q=San%20Diego,us** to specify our city.  %20 is used to encode space in the url\n"
   ]
  },
  {
   "cell_type": "code",
   "execution_count": 4,
   "metadata": {},
   "outputs": [],
   "source": [
    "import weatherkey\n",
    "key=weatherkey.getkey()\n"
   ]
  },
  {
   "cell_type": "code",
   "execution_count": 10,
   "metadata": {},
   "outputs": [
    {
     "data": {
      "text/plain": [
       "{u'base': u'stations',\n",
       " u'clouds': {u'all': 40},\n",
       " u'cod': 200,\n",
       " u'coord': {u'lat': 32.72, u'lon': -117.16},\n",
       " u'dt': 1510480920,\n",
       " u'id': 5391811,\n",
       " u'main': {u'humidity': 93,\n",
       "  u'pressure': 1017,\n",
       "  u'temp': 284.67,\n",
       "  u'temp_max': 289.15,\n",
       "  u'temp_min': 279.15},\n",
       " u'name': u'San Diego',\n",
       " u'sys': {u'country': u'US',\n",
       "  u'id': 425,\n",
       "  u'message': 0.1698,\n",
       "  u'sunrise': 1510496200,\n",
       "  u'sunset': 1510534124,\n",
       "  u'type': 1},\n",
       " u'visibility': 8047,\n",
       " u'weather': [{u'description': u'haze',\n",
       "   u'icon': u'50n',\n",
       "   u'id': 721,\n",
       "   u'main': u'Haze'},\n",
       "  {u'description': u'mist', u'icon': u'50n', u'id': 701, u'main': u'Mist'}],\n",
       " u'wind': {u'deg': 60, u'speed': 2.1}}"
      ]
     },
     "execution_count": 10,
     "metadata": {},
     "output_type": "execute_result"
    }
   ],
   "source": [
    "import json\n",
    "base_url = \"http://api.openweathermap.org/data/2.5/weather\"\n",
    "url=base_url+\"?q=San Diego,us&id=%s&APPID=%s\"%('yoavfreund',key)\n",
    "req = requests.get(url)\n",
    "output = req.json()\n",
    "output"
   ]
  },
  {
   "cell_type": "markdown",
   "metadata": {},
   "source": [
    "From here we can see that the city id for san diego (the \"id\" field) is 5391811.  We can now use open weather map's [Histrocial Data API](http://openweathermap.org/history) to download san diego data.  Lets try pulling the first entry for 2013.  Here are the parameters we pass:\n",
    "\n",
    "* Base URL: http://history.openweathermap.org/data/2.5/history/city\n",
    "* id - the city id - 5391811\n",
    "* start - the unix time stamp of our start period - 1357027200 (0:0:0 on Jan 1 2013)\n",
    "* cnt - the number of measures we want - 1\n",
    "* APPID - the *API Key* for david's account - dd9abf3c45c153e11a6e11f0d12391aa\n",
    "\n",
    "** Unfortunately, David's API Key expired** -- Figure out how to obtain a new key for yourself and then use it to run the code below.\n",
    "\n",
    "\n",
    "This gives us this URL: **http://api.openweathermap.org/data/2.5/history/city?id=5391811&type=day&start=1357027200&cnt=1&APPID=dd9abf3c45c153e11a6e11f0d12391aa&units=imperial**"
   ]
  },
  {
   "cell_type": "code",
   "execution_count": 19,
   "metadata": {},
   "outputs": [
    {
     "data": {
      "text/plain": [
       "u'{\"cod\":401, \"message\": \"Invalid API key. Please see http://openweathermap.org/faq#error401 for more info.\"}'"
      ]
     },
     "execution_count": 19,
     "metadata": {},
     "output_type": "execute_result"
    }
   ],
   "source": [
    "query_url=\"?q=San Diego,us&start=1357027200&cnt=100&type=day&id=%s&APPID=%s\"%('yoavfreund',key)\n",
    "base_url=\"http://history.openweathermap.org/data/2.5/history/city\"\n",
    "req = requests.get(base_url+query_url)\n",
    "req.text"
   ]
  },
  {
   "cell_type": "code",
   "execution_count": null,
   "metadata": {
    "collapsed": true
   },
   "outputs": [],
   "source": [
    "http://history.openweathermap.org/data/2.5/history/city?i"
   ]
  },
  {
   "cell_type": "markdown",
   "metadata": {},
   "source": [
    "From here we can see that the temperature is located at req.json[\"list\"][0][\"main\"][\"temp\"].  Interestingly, we also see the temperature is reported in kelvin, which can be converted to Fahrenheit using $F=(K - 273.15)* 1.8000+ 32.00$.\n",
    "\n",
    "\n",
    "Now we'll loop through from the start period to the end of the year, adding 86400 (the number of seconds in 24 hours) to the time stamp each time.  We'll append the temperature recieved to a list \"temp\" for us to plot later.\n",
    "\n",
    "Also note that some times there is no measurement for a day, to do this we check if [\"list\"] is not empty before extracting main/temp from it.  If it is empty we append None."
   ]
  },
  {
   "cell_type": "code",
   "execution_count": 7,
   "metadata": {
    "scrolled": true
   },
   "outputs": [
    {
     "name": "stdout",
     "output_type": "stream",
     "text": [
      "0\n"
     ]
    },
    {
     "ename": "KeyError",
     "evalue": "'list'",
     "output_type": "error",
     "traceback": [
      "\u001b[0;31m---------------------------------------------------------------------------\u001b[0m",
      "\u001b[0;31mKeyError\u001b[0m                                  Traceback (most recent call last)",
      "\u001b[0;32m<ipython-input-7-12fd80b7baf4>\u001b[0m in \u001b[0;36m<module>\u001b[0;34m()\u001b[0m\n\u001b[1;32m      6\u001b[0m     \u001b[0mreq\u001b[0m \u001b[0;34m=\u001b[0m \u001b[0mrequests\u001b[0m\u001b[0;34m.\u001b[0m\u001b[0mget\u001b[0m\u001b[0;34m(\u001b[0m\u001b[0;34m\"http://api.openweathermap.org/data/2.5/history/city?id=5391811&type=day&start=\"\u001b[0m \u001b[0;34m+\u001b[0m \u001b[0mstr\u001b[0m\u001b[0;34m(\u001b[0m\u001b[0mtime\u001b[0m\u001b[0;34m)\u001b[0m \u001b[0;34m+\u001b[0m \u001b[0;34m\"&cnt=1&APPID=dd9abf3c45c153e11a6e11f0d12391aa&type=day\"\u001b[0m\u001b[0;34m)\u001b[0m\u001b[0;34m\u001b[0m\u001b[0m\n\u001b[1;32m      7\u001b[0m     \u001b[0mtime\u001b[0m \u001b[0;34m=\u001b[0m \u001b[0mtime\u001b[0m \u001b[0;34m+\u001b[0m \u001b[0;36m86400\u001b[0m\u001b[0;34m\u001b[0m\u001b[0m\n\u001b[0;32m----> 8\u001b[0;31m     \u001b[0mdata\u001b[0m \u001b[0;34m=\u001b[0m \u001b[0mreq\u001b[0m\u001b[0;34m.\u001b[0m\u001b[0mjson\u001b[0m\u001b[0;34m(\u001b[0m\u001b[0;34m)\u001b[0m\u001b[0;34m[\u001b[0m\u001b[0;34m\"list\"\u001b[0m\u001b[0;34m]\u001b[0m\u001b[0;34m\u001b[0m\u001b[0m\n\u001b[0m\u001b[1;32m      9\u001b[0m     \u001b[0;32mif\u001b[0m \u001b[0mlen\u001b[0m\u001b[0;34m(\u001b[0m\u001b[0mdata\u001b[0m\u001b[0;34m)\u001b[0m \u001b[0;34m>\u001b[0m \u001b[0;36m0\u001b[0m\u001b[0;34m:\u001b[0m\u001b[0;34m\u001b[0m\u001b[0m\n\u001b[1;32m     10\u001b[0m         \u001b[0mK\u001b[0m \u001b[0;34m=\u001b[0m \u001b[0mdata\u001b[0m\u001b[0;34m[\u001b[0m\u001b[0;36m0\u001b[0m\u001b[0;34m]\u001b[0m\u001b[0;34m[\u001b[0m\u001b[0;34m\"main\"\u001b[0m\u001b[0;34m]\u001b[0m\u001b[0;34m[\u001b[0m\u001b[0;34m\"temp\"\u001b[0m\u001b[0;34m]\u001b[0m\u001b[0;34m\u001b[0m\u001b[0m\n",
      "\u001b[0;31mKeyError\u001b[0m: 'list'"
     ]
    }
   ],
   "source": [
    "temp = []\n",
    "time = 1357027200\n",
    "for i in range(365):\n",
    "    if i%10 == 0:\n",
    "        print i\n",
    "    req = requests.get(\"http://api.openweathermap.org/data/2.5/history/city?id=5391811&type=day&start=\" + str(time) + \"&cnt=1&APPID=dd9abf3c45c153e11a6e11f0d12391aa&type=day\")\n",
    "    req = requests.get(base_url+query_url)\n",
    "    time = time + 86400\n",
    "    data = req.json()[\"list\"]\n",
    "    if len(data) > 0:\n",
    "        K = data[0][\"main\"][\"temp\"]\n",
    "        F = (K - 273.15)* 1.8000+ 32.00\n",
    "        temp.append(F)\n",
    "    else:\n",
    "        temp.append(None)"
   ]
  },
  {
   "cell_type": "code",
   "execution_count": 13,
   "metadata": {},
   "outputs": [
    {
     "data": {
      "text/plain": [
       "284.67"
      ]
     },
     "execution_count": 13,
     "metadata": {},
     "output_type": "execute_result"
    }
   ],
   "source": [
    "req.json()"
   ]
  },
  {
   "cell_type": "code",
   "execution_count": 9,
   "metadata": {},
   "outputs": [
    {
     "data": {
      "text/plain": [
       "[<matplotlib.lines.Line2D at 0x10557a790>]"
      ]
     },
     "execution_count": 9,
     "metadata": {},
     "output_type": "execute_result"
    },
    {
     "data": {
      "image/png": "[encoded data removed]",
      "text/plain": [
       "<matplotlib.figure.Figure at 0x10557a650>"
      ]
     },
     "metadata": {},
     "output_type": "display_data"
    }
   ],
   "source": [
    "plot(temp)"
   ]
  },
  {
   "cell_type": "markdown",
   "metadata": {},
   "source": [
    "There is obviously a lot more to learn about Restful API's, however this should provide a simple example of what they are and how to use them.  Explore the programmable web website to see the vast array of api's availible.\n",
    "\n",
    "**Exercise**\n",
    "Look at the programmable web website and find an API that interests you.  Use the restful API to query some data and extract a meaningful field.  If the API provides time series Data, plot the field over time."
   ]
  },
  {
   "cell_type": "code",
   "execution_count": null,
   "metadata": {
    "collapsed": true
   },
   "outputs": [],
   "source": []
  }
 ],
 "metadata": {
  "anaconda-cloud": {},
  "kernelspec": {
   "display_name": "Python [Root]",
   "language": "python",
   "name": "Python [Root]"
  },
  "language_info": {
   "codemirror_mode": {
    "name": "ipython",
    "version": 2
   },
   "file_extension": ".py",
   "mimetype": "text/x-python",
   "name": "python",
   "nbconvert_exporter": "python",
   "pygments_lexer": "ipython2",
   "version": "2.7.13"
  }
 },
 "nbformat": 4,
 "nbformat_minor": 1
}
