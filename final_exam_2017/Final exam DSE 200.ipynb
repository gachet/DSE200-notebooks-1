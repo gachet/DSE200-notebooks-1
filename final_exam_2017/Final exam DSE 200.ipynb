{
 "cells": [
  {
   "cell_type": "markdown",
   "metadata": {},
   "source": [
    "# Final exam DSE 200"
   ]
  },
  {
   "cell_type": "markdown",
   "metadata": {},
   "source": [
    "Your task in this take-home exam is to analyze the evolution of poverty, \n",
    "income distribution and investment in education in the United States.\n",
    "\n",
    "### Data source: \n",
    "\n",
    "https://www.census.gov/programs-surveys/saipe/data/datasets.All.html\n",
    "\n",
    "Use the given code snippet to access the data files\n",
    "\n",
    "The data fields are described here (in File Layout):https://www.census.gov/data/datasets/2015/demo/saipe/2015-state-and-county.html \n",
    "Extract the required fields. The required fields are: \n",
    "   'State FIPS', 'County FIPS','Poverty Estimate All Ages', 'Poverty Percent All Ages', \n",
    "   'Poverty Estimate Under Age 18', 'Poverty Percent Under Age 18', 'Poverty Estimate Ages 5-17', \n",
    "   'Poverty Percent Ages 5-17', 'Median Household Income','Name','Postal'\n",
    " \n",
    "### Pandas Data-Frames\n",
    "\n",
    "1)\n",
    "    - create a data frame with just the country-wide data\n",
    "    - create a data frame with just the data of the states\n",
    "    - create a data frame with just the data of the counties\n",
    "\n",
    "    \n",
    "2) Plot a graph of 'Poverty Percent All Ages' of the entire country vs year (line graph).\n",
    "   Plot a graph of 'Median Household Income' of the entire country vs year (line graph)\n",
    "\n",
    "3) Plot the total poverty in each state across the years and compare it with the country-wide poverty\n",
    "\n",
    "4) Plot county-wide poverty stats\n",
    "\n",
    "- Create a dataframe with the Unique FIPS code (obtained by combining the state and county FIPS), 'Poverty Percent All Ages' in every county in 2001, 'Poverty Percent All Ages' in every county in 2015 and the change ratio between 2001 and 2015. (change ratio = poverty % in 2015 / poverty % in 2001. Divide this by the nationwide change ratio for normalization. A value > 1 indicates that poverty change is higher compared to the nation-wide poverty change and a value < 1 indicates that poverty change is lower compared to the nationwide poverty change.)\n",
    "\n",
    "\n",
    "FIPS code is a unique code to identify counties and states in the US. In this data you have been given state code and county code separately. You will have to combine the state code and the county code to generate a unique code for each place, which will be used to plot on the map. Please note that before combining, make sure the state code is 2 digits and county code is 3 digits by adding zeroes to the front.\n",
    "\n",
    "\n",
    "- Plot the 'Poverty Percent All Ages' for each county on the map for the years 2001 and 2015.\n",
    "- Plot the normalized change ratio on the map.\n",
    "- Find the counties which witnessed the most positive and most negative change in poverty,\n",
    "\n",
    "For this visualization, we will use a library called Vincent, which lets you plot data for places using their FIPS code instead of using latitude/longitude. \n",
    "\n",
    "To install vincent do\n",
    "`pip install vincent` or `conda install vincent`\n",
    "\n",
    "\n",
    "To use it in the notebook and display the maps inside the notebook do\n",
    "\n",
    "`import vincent`\n",
    "\n",
    "`vincent.core.initialize_notebook()`\n",
    "\n",
    "You can find further details about how to use it here - http://wrobstory.github.io/2013/10/mapping-data-python.html and https://github.com/wrobstory/vincent\n",
    "\n",
    "Before closing your notebook, please clear the output of the vincent maps as it becomes difficult of reload the notebook later. For plotting the counties on the map, you will need to use the file us_counties.topo.json present in the exam folder.\n",
    "\n",
    "Tips: -  \n",
    "    Check the type of datafields before operating on them. It will also help you debug for errors.\n",
    "    Clean the data before using it. Drop those rows before using them."
   ]
  },
  {
   "cell_type": "code",
   "execution_count": 1,
   "metadata": {
    "collapsed": true
   },
   "outputs": [],
   "source": [
    "import urllib2\n",
    "\n",
    "urls = ['https://www2.census.gov/programs-surveys/saipe/datasets/2001/2001-state-and-county/est01all.dat',\n",
    "        'https://www2.census.gov/programs-surveys/saipe/datasets/2002/2002-state-and-county/est02all.dat',\n",
    "        'https://www2.census.gov/programs-surveys/saipe/datasets/2003/2003-state-and-county/est03all.dat',\n",
    "        'https://www2.census.gov/programs-surveys/saipe/datasets/2004/2004-state-and-county/est04all.txt',\n",
    "        'https://www2.census.gov/programs-surveys/saipe/datasets/2005/2005-state-and-county/est05all.txt',\n",
    "        'https://www2.census.gov/programs-surveys/saipe/datasets/2006/2006-state-and-county/est06all.txt',\n",
    "        'https://www2.census.gov/programs-surveys/saipe/datasets/2007/2007-state-and-county/est07all.txt',\n",
    "        'https://www2.census.gov/programs-surveys/saipe/datasets/2008/2008-state-and-county/est08all.txt',\n",
    "        'https://www2.census.gov/programs-surveys/saipe/datasets/2009/2009-state-and-county/est09all.txt',\n",
    "        'https://www2.census.gov/programs-surveys/saipe/datasets/2010/2010-state-and-county/est10all.txt',\n",
    "        'https://www2.census.gov/programs-surveys/saipe/datasets/2011/2011-state-and-county/est11all.txt',\n",
    "        'https://www2.census.gov/programs-surveys/saipe/datasets/2012/2012-state-and-county/est12all.txt',\n",
    "        'https://www2.census.gov/programs-surveys/saipe/datasets/2013/2013-state-and-county/est13all.txt',\n",
    "        'https://www2.census.gov/programs-surveys/saipe/datasets/2014/2014-state-and-county/est14all.txt',\n",
    "        'https://www2.census.gov/programs-surveys/saipe/datasets/2015/2015-state-and-county/est15all.txt']\n",
    "\n",
    "def getUrl(urls):\n",
    "    for url in urls:\n",
    "        response = urllib2.urlopen(url)\n",
    "        lines = response.read().split('\\n')\n",
    "        del lines[-1]\n",
    "        #TODO -code to use the text data\n",
    "       \n",
    "        \n",
    "getUrl(urls)"
   ]
  },
  {
   "cell_type": "markdown",
   "metadata": {},
   "source": [
    "### Q1: Create the dataframes\n",
    "\n",
    "Download and parse the data files and create the following three pandas dataframes: (your dataframes should have data in the format shown below)\n",
    "\n",
    " * US_stat: statistics for the whole United States.\n",
    " * states_stat: Statistics for each state.\n",
    " * county_stat: Statistics for each county."
   ]
  },
  {
   "cell_type": "code",
   "execution_count": null,
   "metadata": {
    "collapsed": true
   },
   "outputs": [],
   "source": [
    "US_stat.head()"
   ]
  },
  {
   "cell_type": "code",
   "execution_count": null,
   "metadata": {
    "collapsed": true
   },
   "outputs": [],
   "source": [
    "states_stat.head()"
   ]
  },
  {
   "cell_type": "code",
   "execution_count": null,
   "metadata": {
    "collapsed": true
   },
   "outputs": [],
   "source": [
    "county_stat.head()"
   ]
  },
  {
   "cell_type": "code",
   "execution_count": null,
   "metadata": {
    "collapsed": true
   },
   "outputs": [],
   "source": [
    "import matplotlib.pyplot as plt"
   ]
  },
  {
   "cell_type": "markdown",
   "metadata": {},
   "source": [
    "### Q2. Plot the US-wide statistics on poverty.\n",
    "\n",
    "Plot the 'Poverty Percent All Ages' and 'Median Household Income' across entire US over the years. \n",
    "\n",
    "Compute the percentage of increase in poverty in the US between 2001 and 2015. - [poverty % in 2015] / [poverty % in 2001]\n",
    "\n",
    "![income_and_poverty](income_and_poverty.png)"
   ]
  },
  {
   "cell_type": "code",
   "execution_count": null,
   "metadata": {
    "collapsed": true,
    "scrolled": true
   },
   "outputs": [],
   "source": []
  },
  {
   "cell_type": "markdown",
   "metadata": {},
   "source": [
    "### Q3: Plot the change in poverty percentages by state.\n",
    "\n",
    "For each state, plot the poverty levels across time and compare it with the nation-wide poverty level. Produce a graph similar to the ones below.\n",
    "![state-wise](state-wise.png)"
   ]
  },
  {
   "cell_type": "markdown",
   "metadata": {},
   "source": [
    "<img src=\"StateByStateFig.png\">"
   ]
  },
  {
   "cell_type": "markdown",
   "metadata": {},
   "source": [
    "### Q4: plot poverty statistics by county\n",
    "\n",
    "Using the vincent library and the dataframe `county_stat`, generate the following three maps.\n",
    "\n",
    "1. Overall percentage of poverty for each county in 2001.\n",
    "![poverty2001](Poverty2001.png)\n",
    "1. Overall percentage of poverty for each county in 2015.\n",
    "![poverty2015](Poverty2015.png)\n",
    "1. Ratio between percentage of change in poverty from 2001 to 2015 for each county. Divided by the nation-wide change in poverty (1.26).\n",
    "![povertyChange](PovertyChange.png)"
   ]
  },
  {
   "cell_type": "markdown",
   "metadata": {},
   "source": [
    "### Q5: Identify the extremes.\n",
    "Find out which are the counties in which the poverty percentage increased or decreased the most during the period 2001 - 2015."
   ]
  },
  {
   "cell_type": "markdown",
   "metadata": {},
   "source": [
    "## Q6: Public Education Analysis"
   ]
  },
  {
   "cell_type": "markdown",
   "metadata": {
    "collapsed": true
   },
   "source": [
    "Download county-level public school finances data ([Individual Unit Tables](https://www.census.gov/data/tables/2005/econ/school-finances/secondary-education-finance.html)) from [here](https://www.census.gov/programs-surveys/school-finances/data/tables.html) for year 2003-2015*.\n",
    "\n",
    "*: The format for data files 2001-2002 is somewhat different. You can include these files too if you want.\n",
    "\n",
    "### Fields\n",
    "* CONUM: FIPS (This field is in different formats for different years. You'll have to make required chenges to read.)\n",
    "* TOTALREV: Total Revenue for primary and secondary schools\n",
    "* TFEDREV: Total federal revenue\n",
    "* TSTREV: Total state revenue\n",
    "* TLOCREV: Total local revenue\n",
    "* TOTALEXP: Total expenditure\n",
    "\n",
    "[Full Documentation](https://www2.census.gov/programs-surveys/school-finances/tables/2015/secondary-education-finance/school15doc.pdf)\n",
    "\n",
    "### Your task\n",
    "\n",
    "Your task in this section is to show whether or not counties that invested more than average in education have seen a significant decrease in poverty in later years, as compared with counties which invested less than average.\n",
    "\n",
    "It is an open-ended task. We are looking to see whether you can visualize the data and identify trends."
   ]
  },
  {
   "cell_type": "code",
   "execution_count": null,
   "metadata": {
    "collapsed": true
   },
   "outputs": [],
   "source": []
  }
 ],
 "metadata": {
  "anaconda-cloud": {},
  "kernelspec": {
   "display_name": "Python [Root]",
   "language": "python",
   "name": "Python [Root]"
  },
  "language_info": {
   "codemirror_mode": {
    "name": "ipython",
    "version": 2
   },
   "file_extension": ".py",
   "mimetype": "text/x-python",
   "name": "python",
   "nbconvert_exporter": "python",
   "pygments_lexer": "ipython2",
   "version": "2.7.13"
  },
  "toc": {
   "colors": {
    "hover_highlight": "#DAA520",
    "navigate_num": "#000000",
    "navigate_text": "#333333",
    "running_highlight": "#FF0000",
    "selected_highlight": "#FFD700",
    "sidebar_border": "#EEEEEE",
    "wrapper_background": "#FFFFFF"
   },
   "moveMenuLeft": true,
   "nav_menu": {
    "height": "214px",
    "width": "252px"
   },
   "navigate_menu": true,
   "number_sections": true,
   "sideBar": true,
   "threshold": 4,
   "toc_cell": false,
   "toc_section_display": "block",
   "toc_window_display": false,
   "widenNotebook": false
  }
 },
 "nbformat": 4,
 "nbformat_minor": 1
}
