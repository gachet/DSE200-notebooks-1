{
 "cells": [
  {
   "cell_type": "markdown",
   "metadata": {},
   "source": [
    "### Excercise 1: reconstruct a file from segments."
   ]
  },
  {
   "cell_type": "markdown",
   "metadata": {},
   "source": [
    "Each of the files F* is a short segment of the original text file.\n",
    "The fragments are non-overlapping: one segments starts where the previous one ends.\n",
    "\n",
    "The format of the file is `(n1: 5 char int),(n2: 5 char int),string`\n",
    "The string represents the content of the file in the range `[n1:n2]`\n",
    "\n",
    "Your task is to reconstruct the original file using unix commands only. There is a one line solution involving several unix commands connected by pipes \"|\".\n",
    "\n",
    "The solution can be completed with a single bash command (using pipes)"
   ]
  },
  {
   "cell_type": "code",
   "execution_count": 1,
   "metadata": {},
   "outputs": [
    {
     "name": "stdout",
     "output_type": "stream",
     "text": [
      "/Users/tushar/Desktop/dse200/DSE200-notebooks/data/NLTK/Chopped\n",
      "F0    F115  F131  F148  F164  F180  F198  F214  F230  F36   F52   F68   F83\n",
      "F1    F117  F132  F149  F165  F181  F199  F215  F231  F37   F53   F69   F84\n",
      "F10   F118  F133  F15   F166  F182  F2    F216  F232  F38   F54   F7    F85\n",
      "F100  F119  F134  F151  F167  F183  F20   F218  F233  F39   F55   F70   F86\n",
      "F101  F12   F135  F152  F168  F185  F200  F219  F24   F4    F56   F71   F87\n",
      "F102  F120  F136  F153  F169  F186  F201  F22   F25   F40   F57   F72   F88\n",
      "F104  F121  F137  F154  F170  F187  F202  F220  F26   F41   F58   F73   F9\n",
      "F106  F122  F138  F155  F171  F189  F204  F221  F27   F42   F59   F74   F90\n",
      "F107  F123  F139  F156  F172  F19   F205  F222  F28   F43   F6    F75   F91\n",
      "F108  F124  F14   F157  F173  F190  F206  F223  F29   F44   F60   F76   F93\n",
      "F109  F125  F140  F158  F174  F191  F207  F224  F3    F45   F61   F77   F94\n",
      "F11   F126  F141  F159  F175  F192  F208  F225  F30   F46   F62   F78   F95\n",
      "F110  F127  F142  F16   F176  F193  F209  F226  F31   F48   F63   F79   F96\n",
      "F111  F128  F144  F160  F177  F194  F210  F227  F32   F49   F64   F8    F97\n",
      "F112  F129  F145  F161  F178  F195  F211  F228  F33   F5    F65   F80   F99\n",
      "F113  F13   F146  F162  F179  F196  F212  F229  F34   F50   F66   F81\n",
      "F114  F130  F147  F163  F18   F197  F213  F23   F35   F51   F67   F82\n"
     ]
    }
   ],
   "source": [
    "%cd ../data/NLTK/Chopped/\n",
    "!ls -F"
   ]
  },
  {
   "cell_type": "markdown",
   "metadata": {},
   "source": [
    "### Excercise 2:"
   ]
  },
  {
   "cell_type": "code",
   "execution_count": 2,
   "metadata": {},
   "outputs": [],
   "source": [
    "# A file called Caesar with the following lines is created for you. Use this file for completing the below sub-questions.\n",
    "# You can check where the file is being created by !pwd \n",
    "\n",
    "\n",
    "!echo \"\"\"Caesar, a great general, is petitioned by several citizens to show clemency to one of his enemies.\\nHe declines, pompously speaking of himself in the third person. The group of conspirators then proceeds to stab him.\\nWith his dying breath he gasps, \\\"Et tu, Brute? (\\\"And you, Brutus?\\\") Thus falls Caesar.\\\"\\nThe conspirators exult, and Shakespeare inserts a self-referential joke as Cassius says,\\n\\\"How many ages hence shall this our lofty scene be acted over in states unborn and accents yet unknown!\"\"\" >> Caesar.txt\n",
    "\n",
    "\n",
    "#Change the permissions of this file to 666\n",
    "#Issue a UNIX command to determine the file type\n",
    "#Isue a uniix comannd to count the number of words in the above text that contains no vowels\n",
    "#Replace the word Caesar wherever it is found in the entire text to Leonidas\n",
    "#Make a copy of the above file without the first and last lines of the text and rename this file to Leonidas\n",
    "\n",
    "# The solution can be completed with unix commands other than replacing ceaser-> leonidas"
   ]
  },
  {
   "cell_type": "markdown",
   "metadata": {},
   "source": [
    "### Excercise 3:"
   ]
  },
  {
   "cell_type": "code",
   "execution_count": null,
   "metadata": {},
   "outputs": [],
   "source": [
    "#What is the command to count lines,words and characters in a file and how do you make this comand display only linecount?\n",
    "#Also write a single command that lists the files in the current directory that begin with upper case letters\n",
    "\n",
    "# The solution can be completed with unix commands only"
   ]
  },
  {
   "cell_type": "markdown",
   "metadata": {},
   "source": [
    "### Excercise 4:"
   ]
  },
  {
   "cell_type": "code",
   "execution_count": null,
   "metadata": {},
   "outputs": [],
   "source": [
    "#Combine the files Caesar and Leonidas and save the combined file as kings\n",
    "#Display the contents of this file using more command\n",
    "#Sort this file in reverse alphabetic order and display it by piping it into more\n",
    "\n",
    "# The solution can be completed with unix commands only"
   ]
  },
  {
   "cell_type": "markdown",
   "metadata": {},
   "source": [
    "### Excercise 5:"
   ]
  },
  {
   "cell_type": "code",
   "execution_count": null,
   "metadata": {},
   "outputs": [],
   "source": [
    "#List all files in your current directory. Make a subDirectory and copy all these files in the subdirectory.\n",
    "#Write Unix commands to rename all the files to the format - currentDate_originalname\n",
    "\n",
    "# The solution can be completed with unix + python commands"
   ]
  },
  {
   "cell_type": "markdown",
   "metadata": {},
   "source": [
    "### Excercise 6:"
   ]
  },
  {
   "cell_type": "code",
   "execution_count": null,
   "metadata": {},
   "outputs": [],
   "source": [
    "#Suppose we have a script that performs numerous efficiency tests. \n",
    "#The output from the script contains lots of information, but our purpose now is to extract information\n",
    "#about the CPU time of each test and sort these CPU times. The output from the tests takes the following form:\n",
    "output = \"\"\"\n",
    "f95 -c -O0  versions/main_wIO.f F77WAVE.f\n",
    "f95 -o app  -static main_wIO.o F77WAVE.o   -lf2c\n",
    "app < input > tmp.out\n",
    "CPU-time: 255.97   f95 -O0 formatted I/O\n",
    "f95 -c -O1  versions/main_wIO.f F77WAVE.f\n",
    "f95 -o app  -static main_wIO.o F77WAVE.o   -lf2c\n",
    "app < input > tmp.out\n",
    "CPU-time: 252.47   f95 -O1 formatted I/O\n",
    "f95 -c -O2  versions/main_wIO.f F77WAVE.f\n",
    "f95 -o app  -static main_wIO.o F77WAVE.o   -lf2c\n",
    "app < input > tmp.out\n",
    "CPU-time: 252.40   f95 -O2 formatted I/O\n",
    "f95 -c -O3  versions/main_wIO.f F77WAVE.f\n",
    "f95 -o app  -static main_wIO.o F77WAVE.o   -lf2c\n",
    "app < input > tmp.out\n",
    "CPU-time: 255.28   f95 -O0 formatted I/O\n",
    "f95 -c -O4  versions/main_wIO.f F77WAVE.f\n",
    "f95 -o app  -static main_wIO.o F77WAVE.o   -lf2c\n",
    "app < input > tmp.out\n",
    "CPU-time: 251.43  f95 -O0 formatted I/O\n",
    "f95 -c -O5  versions/main_wIO.f F77WAVE.f\n",
    "f95 -o app  -static main_wIO.o F77WAVE.o   -lf2c\n",
    "app < input > tmp.out\n",
    "CPU-time: 255.90   f95 -O0 formatted I/O\n",
    "f95 -c -O6  versions/main_wIO.f F77WAVE.f\n",
    "f95 -o app  -static main_wIO.o F77WAVE.o   -lf2c\n",
    "app < input > tmp.out\n",
    "CPU-time: 252.15   f95 -O0 formatted I/O\n",
    "\"\"\"\n",
    "\n",
    "#First we need to extract the lines starting with CPU-time. \n",
    "#Then we need to sort the extracted lines with respect to the CPU time, which is the number appearing in the second column. \n",
    "#Write a script to accomplish this task. \n",
    "\n",
    "#Hint: Find the lines with CPU time results by using a string comparison of the first 7 characters \n",
    "#to detect the keyword CPU-time. Then write a tailored sort function for sorting two lines \n",
    "#(extract the CPU time from the second column in both lines and compare the CPU times as floating-point numbers). \n",
    "#A tailored sort function takes two arguments a and b, which hold two list elements. \n",
    "#The sort function returns -1 if a is less than b, 1 if a is greater than b, and 0 otherwise (a equals b).\n",
    "\n",
    "# The solution has both unix and python implementation"
   ]
  },
  {
   "cell_type": "markdown",
   "metadata": {},
   "source": [
    "### Excercise 7:"
   ]
  },
  {
   "cell_type": "code",
   "execution_count": null,
   "metadata": {},
   "outputs": [],
   "source": [
    "#Make a copy of your working directory along with its subdirectories and \n",
    "#write unix+python commands that traverses the copied working directory and its subdirectories (recursively) and returns a \n",
    "#list of all files that are larger than X Mb and that have not been accessed the last Y days, \n",
    "#where X and Y are passed as user inputs.\n",
    "#Include an option in this function that moves the files to a subdirectory trash under /tmp \n",
    "#(you need to create trash if it does not exist).\n",
    "\n",
    "# The solution can be completed with unix + python commands"
   ]
  },
  {
   "cell_type": "code",
   "execution_count": null,
   "metadata": {},
   "outputs": [],
   "source": []
  }
 ],
 "metadata": {
  "anaconda-cloud": {},
  "kernelspec": {
   "display_name": "Python [Root]",
   "language": "python",
   "name": "Python [Root]"
  },
  "language_info": {
   "codemirror_mode": {
    "name": "ipython",
    "version": 2
   },
   "file_extension": ".py",
   "mimetype": "text/x-python",
   "name": "python",
   "nbconvert_exporter": "python",
   "pygments_lexer": "ipython2",
   "version": "2.7.13"
  }
 },
 "nbformat": 4,
 "nbformat_minor": 1
}
