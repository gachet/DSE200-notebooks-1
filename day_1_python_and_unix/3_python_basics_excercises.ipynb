{
 "cells": [
  {
   "cell_type": "markdown",
   "metadata": {},
   "source": [
    "### Excercises"
   ]
  },
  {
   "cell_type": "code",
   "execution_count": 16,
   "metadata": {},
   "outputs": [
    {
     "data": {
      "text/plain": [
       "237.53833333333333"
      ]
     },
     "execution_count": 16,
     "metadata": {},
     "output_type": "execute_result"
    }
   ],
   "source": [
    "# (1) Compute the average of a list of numbers. Use sum() and len()\n",
    "L=[23,32,121,22,1222.23,5]"
   ]
  },
  {
   "cell_type": "code",
   "execution_count": null,
   "metadata": {},
   "outputs": [],
   "source": [
    "# (2) Compute the number of times each word occurs in the following text.\n",
    "# Transform all words to lower case. Output a list of\n",
    "#  word,count pairs, one pair per line sorted from highest to lowest count."
   ]
  },
  {
   "cell_type": "code",
   "execution_count": 40,
   "metadata": {},
   "outputs": [
    {
     "data": {
      "text/plain": [
       "[('to', 20),\n",
       " ('the', 19),\n",
       " ('of', 16),\n",
       " ('and', 13),\n",
       " ('that', 8),\n",
       " ('are', 7),\n",
       " ('their', 7),\n",
       " ('them', 6),\n",
       " ('these', 6),\n",
       " ('is', 5),\n",
       " ('which', 5),\n",
       " ('such', 5),\n",
       " ('a', 5),\n",
       " ('government', 4),\n",
       " ('it', 4),\n",
       " ('all', 3),\n",
       " ('they', 3),\n",
       " ('right', 3),\n",
       " ('among', 3),\n",
       " ('be', 3),\n",
       " ('powers', 3),\n",
       " ('its', 2),\n",
       " ('should', 2),\n",
       " ('alter', 2),\n",
       " ('governments', 2),\n",
       " ('for', 2),\n",
       " ('happiness', 2),\n",
       " ('new', 2),\n",
       " ('men', 2),\n",
       " ('by', 2),\n",
       " ('usurpations', 2),\n",
       " ('equal', 2),\n",
       " ('long', 2),\n",
       " ('form', 2),\n",
       " ('with', 2),\n",
       " ('rights', 2),\n",
       " ('history', 2),\n",
       " ('in', 2),\n",
       " ('absolute', 2),\n",
       " ('object', 2),\n",
       " ('mankind', 2),\n",
       " ('opinions', 1),\n",
       " ('just', 1),\n",
       " ('consent', 1),\n",
       " ('over', 1),\n",
       " ('hath', 1),\n",
       " ('invariably', 1),\n",
       " ('facts', 1),\n",
       " ('earth', 1),\n",
       " ('suffer', 1),\n",
       " ('causes', 1),\n",
       " ('forms', 1),\n",
       " ('systems', 1),\n",
       " ('indeed', 1),\n",
       " ('has', 1),\n",
       " ('bands', 1),\n",
       " ('prudence', 1),\n",
       " ('candid', 1),\n",
       " ('under', 1),\n",
       " ('not', 1),\n",
       " ('world', 1),\n",
       " ('now', 1),\n",
       " ('laying', 1),\n",
       " ('this', 1),\n",
       " ('abuses', 1),\n",
       " ('causes;', 1),\n",
       " ('abolishing', 1),\n",
       " ('people', 1),\n",
       " ('truths', 1),\n",
       " ('reduce', 1),\n",
       " ('ends', 1),\n",
       " ('likely', 1),\n",
       " ('shewn', 1),\n",
       " (\"nature's\", 1),\n",
       " ('organizing', 1),\n",
       " ('principles', 1),\n",
       " ('will', 1),\n",
       " ('god', 1),\n",
       " ('shall', 1),\n",
       " ('liberty', 1),\n",
       " ('injuries', 1),\n",
       " ('unalienable', 1),\n",
       " ('safety', 1),\n",
       " ('foundation', 1),\n",
       " ('we', 1),\n",
       " ('patient', 1),\n",
       " ('nature', 1),\n",
       " ('states', 1),\n",
       " ('let', 1),\n",
       " ('pursuit', 1),\n",
       " ('separation', 1),\n",
       " ('constrains', 1),\n",
       " ('on', 1),\n",
       " ('great', 1),\n",
       " ('created', 1),\n",
       " ('institute', 1),\n",
       " ('changed', 1),\n",
       " ('experience', 1),\n",
       " ('sufferance', 1),\n",
       " ('or', 1),\n",
       " ('duty', 1),\n",
       " ('sufferable', 1),\n",
       " ('secure', 1),\n",
       " ('been', 1),\n",
       " ('another', 1),\n",
       " ('respect', 1),\n",
       " ('from', 1),\n",
       " ('prove', 1),\n",
       " ('decent', 1),\n",
       " ('creator', 1),\n",
       " ('disposed', 1),\n",
       " ('throw', 1),\n",
       " ('accordingly', 1),\n",
       " ('station', 1),\n",
       " ('entitle', 1),\n",
       " ('certain', 1),\n",
       " ('themselves', 1),\n",
       " ('more', 1),\n",
       " ('tyranny', 1),\n",
       " ('life', 1),\n",
       " ('evinces', 1),\n",
       " ('becomes', 1),\n",
       " ('pursuing', 1),\n",
       " ('but', 1),\n",
       " ('instituted', 1),\n",
       " ('repeated', 1),\n",
       " ('transient', 1),\n",
       " ('former', 1),\n",
       " ('hold', 1),\n",
       " ('than', 1),\n",
       " ('present', 1),\n",
       " ('king', 1),\n",
       " ('evident', 1),\n",
       " ('britain', 1),\n",
       " ('submitted', 1),\n",
       " ('impel', 1),\n",
       " ('assume', 1),\n",
       " ('while', 1),\n",
       " ('future', 1),\n",
       " ('accustomed', 1),\n",
       " ('light', 1),\n",
       " ('design', 1),\n",
       " ('declare', 1),\n",
       " ('security', 1),\n",
       " ('endowed', 1),\n",
       " ('dictate', 1),\n",
       " ('an', 1),\n",
       " ('direct', 1),\n",
       " ('as', 1),\n",
       " ('despotism', 1),\n",
       " ('have', 1),\n",
       " ('seem', 1),\n",
       " ('any', 1),\n",
       " ('colonies;', 1),\n",
       " ('evils', 1),\n",
       " ('self', 1),\n",
       " ('when', 1),\n",
       " ('same', 1),\n",
       " ('abolish', 1),\n",
       " ('guards', 1),\n",
       " ('establishment', 1),\n",
       " ('separate', 1),\n",
       " ('effect', 1),\n",
       " ('deriving', 1),\n",
       " ('most', 1),\n",
       " ('connected', 1),\n",
       " ('necessity', 1),\n",
       " ('destructive', 1),\n",
       " ('off', 1),\n",
       " ('whenever', 1),\n",
       " ('established', 1),\n",
       " ('governed', 1),\n",
       " ('provide', 1),\n",
       " ('train', 1),\n",
       " ('requires', 1),\n",
       " ('having', 1),\n",
       " ('laws', 1)]"
      ]
     },
     "execution_count": 40,
     "metadata": {},
     "output_type": "execute_result"
    }
   ],
   "source": [
    "Text=\"\"\"\n",
    "bands which have connected them with another, and to assume among the\n",
    "powers of the earth, the separate and equal station to which the Laws\n",
    "of Nature and of Nature's God entitle them, a decent respect to the\n",
    "opinions of mankind requires that they should declare the causes which\n",
    "impel them to the separation.  We hold these truths to be\n",
    "self-evident, that all men are created equal, that they are endowed by\n",
    "their Creator with certain unalienable Rights, that among these are\n",
    "Life, Liberty and the pursuit of Happiness.--That to secure these\n",
    "rights, Governments are instituted among Men, deriving their just\n",
    "powers from the consent of the governed, --That whenever any Form of\n",
    "Government becomes destructive of these ends, it is the Right of the\n",
    "People to alter or to abolish it, and to institute new Government,\n",
    "laying its foundation on such principles and organizing its powers in\n",
    "such form, as to them shall seem most likely to effect their Safety\n",
    "and Happiness. Prudence, indeed, will dictate that Governments long\n",
    "established should not be changed for light and transient causes; and\n",
    "accordingly all experience hath shewn, that mankind are more disposed\n",
    "to suffer, while evils are sufferable, than to right themselves by\n",
    "abolishing the forms to which they are accustomed. But when a long\n",
    "train of abuses and usurpations, pursuing invariably the same Object\n",
    "evinces a design to reduce them under absolute Despotism, it is their\n",
    "right, it is their duty, to throw off such Government, and to provide\n",
    "new Guards for their future security.--Such has been the patient\n",
    "sufferance of these Colonies; and such is now the necessity which\n",
    "constrains them to alter their former Systems of Government. The\n",
    "history of the present King of Great Britain is a history of repeated\n",
    "injuries and usurpations, all having in direct object the\n",
    "establishment of an absolute Tyranny over these States. To prove this,\n",
    "let Facts be submitted to a candid world.\n",
    "\"\"\"\n",
    "\n",
    "# First, we replace the punctuations marks with spaces\n",
    "\n",
    "\n",
    "# split the text into words: \n",
    "# transform Text into a list of lowercase words.\n",
    "\n",
    "\n",
    "# count each word using a dictionary\n"
   ]
  },
  {
   "cell_type": "code",
   "execution_count": null,
   "metadata": {},
   "outputs": [],
   "source": [
    "# (3) same as 2, but instead of single words, count the number of occurances of **word pairs** i.e.\n",
    "# ('bands','which'),('which','have'),..."
   ]
  },
  {
   "cell_type": "markdown",
   "metadata": {},
   "source": [
    "(4) For the list `l =  [ 6, -5, 3, -2, 0, 8, -9, -7 ]`, return the numbers which are greater than the average (of these numbers)"
   ]
  },
  {
   "cell_type": "markdown",
   "metadata": {},
   "source": [
    "(5) for the tuples (2, 5, 3, 7, 10, 20, 54, 89) and (15, 16, 3, 37, 54, 21, 20, 5) return a sorted tuple that contains\n",
    "only the elements common to both the tuples (use sets)"
   ]
  },
  {
   "cell_type": "markdown",
   "metadata": {},
   "source": [
    "(6) calculate the average word length for the text\n",
    "\n",
    "> TEXT =\n",
    "> On a dark desert highway, cool wind in my hair\n",
    "> Warm smell of colitas, rising up through the air\n",
    "> Up ahead in the distance, I saw a shimmering light\n",
    "> My head grew heavy and my sight grew dim\n",
    "> I had to stop for the night\n",
    "> There she stood in the doorway;\n",
    "> I heard the mission bell\n",
    "> And I was thinking to myself,\n",
    "> \"This could be Heaven or this could be Hell\"\n",
    "> Then she lit up a candle and she showed me the way\n",
    "> \n",
    "\n",
    "Average word length is the sum of all the lengths of the word tokens in the text, divided by the number of word tokens\n"
   ]
  },
  {
   "cell_type": "markdown",
   "metadata": {},
   "source": [
    "(7) Using the same text as in the last one, remove all punctuation and output the words in sorted alphabetical order. Save this output as a CSV file with each word separated from the other by the delimiter(comma)."
   ]
  },
  {
   "cell_type": "markdown",
   "metadata": {},
   "source": [
    "(8) Read the text from the above separated csv file and return a dictionary of (letter:count) pair\n",
    "that counts the number of times each letter appears in that line."
   ]
  },
  {
   "cell_type": "code",
   "execution_count": null,
   "metadata": {},
   "outputs": [],
   "source": [
    "#(9) Take as an input an array of integers, and return true if the array contains a 5 immediately after another 5 \n",
    "#somewhere.\n",
    "A=[1,5,1,6,5,3,5,2]\n",
    "B=[1,2,3,4,5,5,6,7,8,9]"
   ]
  },
  {
   "cell_type": "markdown",
   "metadata": {},
   "source": [
    "(10) Write  a program that takes in a positive number (in some variable, say `i`) and computes the sum of all the number\n",
    "between 0 and that number (inclusive). \n",
    "\n",
    "* Do it using a for loop\n",
    "* Do it in one line using the function `sum` and list comprehension."
   ]
  },
  {
   "cell_type": "code",
   "execution_count": null,
   "metadata": {},
   "outputs": [],
   "source": [
    "#(11) for the text in file BrownNews.txt (~/DSE200/data/NLTK/BrownNews.txt), \n",
    "#find the distribution of the second letter in each word. "
   ]
  },
  {
   "cell_type": "markdown",
   "metadata": {},
   "source": [
    "(12) write a program to find solutions of the 8 queen problem.\n",
    ">The eight queens problem is the problem of placing eight queens on an 8×8 chessboard such that none of them attack one >another (no two are in the same row, column, or diagonal). Below is one of the arrangements of an 8 queen solution"
   ]
  },
  {
   "cell_type": "markdown",
   "metadata": {},
   "source": [
    "<img src=\"8queen.jpg\">"
   ]
  },
  {
   "cell_type": "markdown",
   "metadata": {},
   "source": [
    "(13) Write a program to make a list of all prime numbers less than 3000. A prime number can only be divided evenly by 1 and itself."
   ]
  },
  {
   "cell_type": "markdown",
   "metadata": {},
   "source": [
    "(14) Solve the above problem using Set instead of List "
   ]
  }
 ],
 "metadata": {
  "kernelspec": {
   "display_name": "Python [Root]",
   "language": "python",
   "name": "Python [Root]"
  },
  "language_info": {
   "codemirror_mode": {
    "name": "ipython",
    "version": 2
   },
   "file_extension": ".py",
   "mimetype": "text/x-python",
   "name": "python",
   "nbconvert_exporter": "python",
   "pygments_lexer": "ipython2",
   "version": "2.7.13"
  }
 },
 "nbformat": 4,
 "nbformat_minor": 1
}
