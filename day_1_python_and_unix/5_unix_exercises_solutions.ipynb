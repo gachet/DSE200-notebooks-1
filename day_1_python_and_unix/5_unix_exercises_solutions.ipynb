{
 "cells": [
  {
   "cell_type": "markdown",
   "metadata": {},
   "source": [
    "### Excercise 1: reconstruct a file from segments."
   ]
  },
  {
   "cell_type": "markdown",
   "metadata": {},
   "source": [
    "Each of the files F* is a short segment of the original text file.\n",
    "\n",
    "The format of the file is `(n1: 5 char int),(n2: 5 char int),string`\n",
    "The string represents the content of the file in the range `[n1:n2]`\n",
    "\n",
    "Your task is to reconstruct the original file."
   ]
  },
  {
   "cell_type": "code",
   "execution_count": 1,
   "metadata": {},
   "outputs": [
    {
     "name": "stdout",
     "output_type": "stream",
     "text": [
      "/Users/tushar/Desktop/dse200/Homework/data/NLTK/Chopped\n",
      "F0           F135         F172         F209         F35          F70\r\n",
      "F1           F136         F173         F210         F36          F71\r\n",
      "F10          F137         F174         F211         F37          F72\r\n",
      "F100         F138         F175         F212         F38          F73\r\n",
      "F101         F139         F176         F213         F39          F74\r\n",
      "F102         F14          F177         F214         F4           F75\r\n",
      "F104         F140         F178         F215         F40          F76\r\n",
      "F106         F141         F179         F216         F41          F77\r\n",
      "F107         F142         F18          F218         F42          F78\r\n",
      "F108         F144         F180         F219         F43          F79\r\n",
      "F109         F145         F181         F22          F44          F8\r\n",
      "F11          F146         F182         F220         F45          F80\r\n",
      "F110         F147         F183         F221         F46          F81\r\n",
      "F111         F148         F185         F222         F48          F82\r\n",
      "F112         F149         F186         F223         F49          F83\r\n",
      "F113         F15          F187         F224         F5           F84\r\n",
      "F114         F151         F189         F225         F50          F85\r\n",
      "F115         F152         F19          F226         F51          F86\r\n",
      "F117         F153         F190         F227         F52          F87\r\n",
      "F118         F154         F191         F228         F53          F88\r\n",
      "F119         F155         F192         F229         F54          F9\r\n",
      "F12          F156         F193         F23          F55          F90\r\n",
      "F120         F157         F194         F230         F56          F91\r\n",
      "F121         F158         F195         F231         F57          F93\r\n",
      "F122         F159         F196         F232         F58          F94\r\n",
      "F123         F16          F197         F233         F59          F95\r\n",
      "F124         F160         F198         F24          F6           F96\r\n",
      "F125         F161         F199         F25          F60          F97\r\n",
      "F126         F162         F2           F26          F61          F99\r\n",
      "F127         F163         F20          F27          F62          kings\r\n",
      "F128         F164         F200         F28          F63          kings.txt\r\n",
      "F129         F165         F201         F29          F64          newfile.txt\r\n",
      "F13          F166         F202         F3           F65          \u001b[34msubdir2\u001b[m\u001b[m/\r\n",
      "F130         F167         F204         F30          F66\r\n",
      "F131         F168         F205         F31          F67\r\n",
      "F132         F169         F206         F32          F68\r\n",
      "F133         F170         F207         F33          F69\r\n",
      "F134         F171         F208         F34          F7\r\n"
     ]
    }
   ],
   "source": [
    "%cd ../data/NLTK/Chopped/\n",
    "!ls -F"
   ]
  },
  {
   "cell_type": "code",
   "execution_count": 2,
   "metadata": {},
   "outputs": [
    {
     "name": "stdout",
     "output_type": "stream",
     "text": [
      "  183  191 term-en\r\n",
      " 1009 1011st\r\n",
      "  792  796f th\r\n",
      "  859  870egistration\r\n",
      "  736  737s\r\n",
      "  210  225 the City Execu\r\n",
      "  891  894 ar\r\n",
      "  592  595ayo\r\n",
      "  912  913e\r\n",
      "  965  982ulton legislators\r\n"
     ]
    }
   ],
   "source": [
    "!cat F11*"
   ]
  },
  {
   "cell_type": "code",
   "execution_count": 3,
   "metadata": {},
   "outputs": [
    {
     "name": "stdout",
     "output_type": "stream",
     "text": [
      "The Fulton County Grand Jury said Friday an investigation of Atlanta's recent primary election produced `` no evidence '' that any irregularities took place . The jury further said in term-end presentments that the City Executive Committee , which had over-all charge of the election , `` deserves the praise and thanks of the City of Atlanta '' for the manner in which the election was conducted . The September-October term jury had been charged by Fulton Superior Court Judge Durwood Pye to investigate reports of possible `` irregularities '' in the hard-fought primary which was won by Mayor-nominate Ivan Allen Jr. . `` Only a relative handful of such reports was received '' , the jury said , `` considering the widespread interest in the election , the number of voters and the size of this city '' . The jury said it did find that many of Georgia's registration and election laws `` are outmoded or inadequate and often ambiguous '' . It recommended that Fulton legislators act `` to have these laws studied and revised to the end of modernizing and improving them '' . The grand jury commented on a number of other topics , among them the Atlanta and Fulton County purchasing departments which it said `` are well operated and follow generally accepted practices which inure to the best interest of both governments '' . Merger proposed However , the jury said it believes `` these two offices should be combined to achieve greater efficiency and reduce the cost of administration '' . The City Purchasing Department , the jury said , `` is lacking in experienced clerical personnel as a result of city personnel policies '' ."
     ]
    }
   ],
   "source": [
    "!sort -n F* | cut -c 11- | tr -d '\\n' > newfile.txt\n",
    "!cat newfile.txt"
   ]
  },
  {
   "cell_type": "markdown",
   "metadata": {},
   "source": [
    "### Excercise 2:"
   ]
  },
  {
   "cell_type": "code",
   "execution_count": 4,
   "metadata": {
    "collapsed": true
   },
   "outputs": [],
   "source": [
    "#Issue a UNIX command to create a file called Caesar that contains the following lines (include the mistakes!!)\n",
    "\n",
    "Text = \"\"\"Caesar, a great general, is petitioned by several citizens to show clemency to one of his enemies.\n",
    "He declines, pompously speaking of himself in the third person. The group of conspirators then proceeds to stab him.\n",
    "With his dying breath he gasps, \"Et tu, Brute? (\"And you, Brutus?\") Thus falls Caesar.\" \n",
    "The conspirators exult, and Shakespeare inserts a self-referential joke as Cassius says, \n",
    "\"How many ages hence shall this our lofty scene be acted over in states unborn and accents yet unknown!\"\n",
    "\"\"\"\n",
    "\n",
    "#Change the permissions of this file to 666\n",
    "#Issue a UNIX command to determine the file type\n",
    "#Isue a unix command to count the number of words in the above text that contains no vowels\n",
    "#Replace the word Caesar wherever it is found in the entire text to Leonidas\n",
    "#Make a copy of the above file without the first and last lines of the text and rename this file to Leonidas"
   ]
  },
  {
   "cell_type": "code",
   "execution_count": 4,
   "metadata": {},
   "outputs": [
    {
     "name": "stdout",
     "output_type": "stream",
     "text": [
      "Caesar.txt: ASCII text\n",
      "       1\n"
     ]
    }
   ],
   "source": [
    "!echo \"\"\"Caesar, a great general, is petitioned by several citizens to show clemency to one of his enemies.\\nHe declines, pompously speaking of himself in the third person. The group of conspirators then proceeds to stab him.\\nWith his dying breath he gasps, \\\"Et tu, Brute? (\\\"And you, Brutus?\\\") Thus falls Caesar.\\\"\\nThe conspirators exult, and Shakespeare inserts a self-referential joke as Cassius says,\\n\\\"How many ages hence shall this our lofty scene be acted over in states unborn and accents yet unknown!\"\"\" > Caesar.txt\n",
    "!chmod 666 Caesar.txt\n",
    "!file Caesar.txt\n",
    "!grep -io '\\<[^aeuoi.?;,][^aeuoi.?;,]*\\>' Caesar.txt | wc -w\n",
    "\n",
    "f = open(\"Caesar.txt\",\"r\")\n",
    "filedata = f.read()\n",
    "f.close()\n",
    "\n",
    "newdata = filedata.replace('Caesar','Leonidas')\n",
    "\n",
    "f = open(\"Caesar.txt\",\"w\")\n",
    "f.write(newdata)\n",
    "f.close()\n",
    "\n",
    "f = open(\"Caesar.txt\",\"r\")\n",
    "lines = f.readlines()\n",
    "f.close()\n",
    "\n",
    "newfile = open(\"Leonidas.txt\",\"w\")\n",
    "\n",
    "for i in range(1,len(lines)-1):\n",
    "    newfile.write(lines[i])\n",
    "    \n",
    "newfile.close()\n",
    "\n",
    "    "
   ]
  },
  {
   "cell_type": "markdown",
   "metadata": {},
   "source": [
    "### Excercise 3:"
   ]
  },
  {
   "cell_type": "code",
   "execution_count": 6,
   "metadata": {
    "collapsed": true
   },
   "outputs": [],
   "source": [
    "#What is the command to count lines,words and characters in a file and how do you make this comand display only linecount?\n",
    "#Also write a single command that lists the files in the current directory that begin with upper case letters"
   ]
  },
  {
   "cell_type": "markdown",
   "metadata": {},
   "source": [
    "the command to display lines,words and characters in a file is wc and we can display only linecount using wc -l"
   ]
  },
  {
   "cell_type": "code",
   "execution_count": 7,
   "metadata": {},
   "outputs": [
    {
     "name": "stdout",
     "output_type": "stream",
     "text": [
      "       5      82     501\n",
      "Caesar.txt   F133         F169         F205         F30          F65\n",
      "F0           F134         F170         F206         F31          F66\n",
      "F1           F135         F171         F207         F32          F67\n",
      "F10          F136         F172         F208         F33          F68\n",
      "F100         F137         F173         F209         F34          F69\n",
      "F101         F138         F174         F210         F35          F7\n",
      "F102         F139         F175         F211         F36          F70\n",
      "F104         F14          F176         F212         F37          F71\n",
      "F106         F140         F177         F213         F38          F72\n",
      "F107         F141         F178         F214         F39          F73\n",
      "F108         F142         F179         F215         F4           F74\n",
      "F109         F144         F18          F216         F40          F75\n",
      "F11          F145         F180         F218         F41          F76\n",
      "F110         F146         F181         F219         F42          F77\n",
      "F111         F147         F182         F22          F43          F78\n",
      "F112         F148         F183         F220         F44          F79\n",
      "F113         F149         F185         F221         F45          F8\n",
      "F114         F15          F186         F222         F46          F80\n",
      "F115         F151         F187         F223         F48          F81\n",
      "F117         F152         F189         F224         F49          F82\n",
      "F118         F153         F19          F225         F5           F83\n",
      "F119         F154         F190         F226         F50          F84\n",
      "F12          F155         F191         F227         F51          F85\n",
      "F120         F156         F192         F228         F52          F86\n",
      "F121         F157         F193         F229         F53          F87\n",
      "F122         F158         F194         F23          F54          F88\n",
      "F123         F159         F195         F230         F55          F9\n",
      "F124         F16          F196         F231         F56          F90\n",
      "F125         F160         F197         F232         F57          F91\n",
      "F126         F161         F198         F233         F58          F93\n",
      "F127         F162         F199         F24          F59          F94\n",
      "F128         F163         F2           F25          F6           F95\n",
      "F129         F164         F20          F26          F60          F96\n",
      "F13          F165         F200         F27          F61          F97\n",
      "F130         F166         F201         F28          F62          F99\n",
      "F131         F167         F202         F29          F63          Leonidas.txt\n",
      "F132         F168         F204         F3           F64\n"
     ]
    }
   ],
   "source": [
    "!cat Caesar.txt | wc\n",
    "!ls -d [A-Z]*"
   ]
  },
  {
   "cell_type": "markdown",
   "metadata": {},
   "source": [
    "### Excercise 4:"
   ]
  },
  {
   "cell_type": "code",
   "execution_count": 8,
   "metadata": {
    "collapsed": true
   },
   "outputs": [],
   "source": [
    "#Combine the files Caesar and Leonidas and save the combined file as kings\n",
    "#Display the contents of this file using more command\n",
    "#Sort this file in reverse alphabetic order and display it by piping it into more"
   ]
  },
  {
   "cell_type": "code",
   "execution_count": 9,
   "metadata": {},
   "outputs": [
    {
     "name": "stdout",
     "output_type": "stream",
     "text": [
      "Caesar.txt   F134         F171         F208         F34          F7\n",
      "F0           F135         F172         F209         F35          F70\n",
      "F1           F136         F173         F210         F36          F71\n",
      "F10          F137         F174         F211         F37          F72\n",
      "F100         F138         F175         F212         F38          F73\n",
      "F101         F139         F176         F213         F39          F74\n",
      "F102         F14          F177         F214         F4           F75\n",
      "F104         F140         F178         F215         F40          F76\n",
      "F106         F141         F179         F216         F41          F77\n",
      "F107         F142         F18          F218         F42          F78\n",
      "F108         F144         F180         F219         F43          F79\n",
      "F109         F145         F181         F22          F44          F8\n",
      "F11          F146         F182         F220         F45          F80\n",
      "F110         F147         F183         F221         F46          F81\n",
      "F111         F148         F185         F222         F48          F82\n",
      "F112         F149         F186         F223         F49          F83\n",
      "F113         F15          F187         F224         F5           F84\n",
      "F114         F151         F189         F225         F50          F85\n",
      "F115         F152         F19          F226         F51          F86\n",
      "F117         F153         F190         F227         F52          F87\n",
      "F118         F154         F191         F228         F53          F88\n",
      "F119         F155         F192         F229         F54          F9\n",
      "F12          F156         F193         F23          F55          F90\n",
      "F120         F157         F194         F230         F56          F91\n",
      "F121         F158         F195         F231         F57          F93\n",
      "F122         F159         F196         F232         F58          F94\n",
      "F123         F16          F197         F233         F59          F95\n",
      "F124         F160         F198         F24          F6           F96\n",
      "F125         F161         F199         F25          F60          F97\n",
      "F126         F162         F2           F26          F61          F99\n",
      "F127         F163         F20          F27          F62          Leonidas.txt\n",
      "F128         F164         F200         F28          F63          kings\n",
      "F129         F165         F201         F29          F64          kings.txt\n",
      "F13          F166         F202         F3           F65          newfile.txt\n",
      "F130         F167         F204         F30          F66          \u001b[34msubdir2\u001b[m\u001b[m\n",
      "F131         F168         F205         F31          F67\n",
      "F132         F169         F206         F32          F68\n",
      "F133         F170         F207         F33          F69\n",
      "Leonidas, a great general, is petitioned by several citizens to show clemency to one of his enemies.\n",
      "He declines, pompously speaking of himself in the third person. The group of conspirators then proceeds to stab him.\n",
      "With his dying breath he gasps, \"Et tu, Brute? (\"And you, Brutus?\") Thus falls Leonidas.\"\n",
      "The conspirators exult, and Shakespeare inserts a self-referential joke as Cassius says,\n",
      "\"How many ages hence shall this our lofty scene be acted over in states unborn and accents yet unknown!\n",
      "He declines, pompously speaking of himself in the third person. The group of conspirators then proceeds to stab him.\n",
      "With his dying breath he gasps, \"Et tu, Brute? (\"And you, Brutus?\") Thus falls Leonidas.\"\n",
      "The conspirators exult, and Shakespeare inserts a self-referential joke as Cassius says,\n",
      "With his dying breath he gasps, \"Et tu, Brute? (\"And you, Brutus?\") Thus falls Leonidas.\"\n",
      "With his dying breath he gasps, \"Et tu, Brute? (\"And you, Brutus?\") Thus falls Leonidas.\"\n",
      "The conspirators exult, and Shakespeare inserts a self-referential joke as Cassius says,\n",
      "The conspirators exult, and Shakespeare inserts a self-referential joke as Cassius says,\n",
      "Leonidas, a great general, is petitioned by several citizens to show clemency to one of his enemies.\n",
      "He declines, pompously speaking of himself in the third person. The group of conspirators then proceeds to stab him.\n",
      "He declines, pompously speaking of himself in the third person. The group of conspirators then proceeds to stab him.\n",
      "\"How many ages hence shall this our lofty scene be acted over in states unborn and accents yet unknown!\n",
      "\u001b[K\u001b[?1l\u001b>"
     ]
    }
   ],
   "source": [
    "!ls\n",
    "!cat Caesar.txt Leonidas.txt > kings.txt\n",
    "!more kings.txt\n",
    "!sort -r kings.txt | more"
   ]
  },
  {
   "cell_type": "markdown",
   "metadata": {},
   "source": [
    "### Excercise 5:"
   ]
  },
  {
   "cell_type": "code",
   "execution_count": null,
   "metadata": {
    "collapsed": true
   },
   "outputs": [],
   "source": [
    "#List all files in your current directory. Make a subDirectory and copy all these files in the subdirectory.\n",
    "#Write Unix commands to rename all the files to the format - currentDate_originalname"
   ]
  },
  {
   "cell_type": "code",
   "execution_count": null,
   "metadata": {
    "collapsed": true
   },
   "outputs": [],
   "source": [
    "!ls\n",
    "!mkdir subdir | cp * subdir\n",
    "!cd subdir\n",
    "!rm -r subdir | ls\n",
    "!now=\"$(date +'%d_%m_%Y'_)\"\n",
    "!for f in *; do mv \"$f\" \"$now$f\"; done\n"
   ]
  },
  {
   "cell_type": "markdown",
   "metadata": {},
   "source": [
    "### Excercise 6:"
   ]
  },
  {
   "cell_type": "code",
   "execution_count": null,
   "metadata": {
    "collapsed": true
   },
   "outputs": [],
   "source": [
    "#Suppose we have a script that performs numerous efficiency tests. \n",
    "#The output from the script contains lots of information, but our purpose now is to extract information\n",
    "#about the CPU time of each test and sort these CPU times. The output from the tests takes the following form:\n",
    "output = \"\"\"\n",
    "f95 -c -O0  versions/main_wIO.f F77WAVE.f\n",
    "f95 -o app  -static main_wIO.o F77WAVE.o   -lf2c\n",
    "app < input > tmp.out\n",
    "CPU-time: 255.97   f95 -O0 formatted I/O\n",
    "f95 -c -O1  versions/main_wIO.f F77WAVE.f\n",
    "f95 -o app  -static main_wIO.o F77WAVE.o   -lf2c\n",
    "app < input > tmp.out\n",
    "CPU-time: 252.47   f95 -O1 formatted I/O\n",
    "f95 -c -O2  versions/main_wIO.f F77WAVE.f\n",
    "f95 -o app  -static main_wIO.o F77WAVE.o   -lf2c\n",
    "app < input > tmp.out\n",
    "CPU-time: 252.40   f95 -O2 formatted I/O\n",
    "f95 -c -O3  versions/main_wIO.f F77WAVE.f\n",
    "f95 -o app  -static main_wIO.o F77WAVE.o   -lf2c\n",
    "app < input > tmp.out\n",
    "CPU-time: 255.28   f95 -O0 formatted I/O\n",
    "f95 -c -O4  versions/main_wIO.f F77WAVE.f\n",
    "f95 -o app  -static main_wIO.o F77WAVE.o   -lf2c\n",
    "app < input > tmp.out\n",
    "CPU-time: 251.43  f95 -O0 formatted I/O\n",
    "f95 -c -O5  versions/main_wIO.f F77WAVE.f\n",
    "f95 -o app  -static main_wIO.o F77WAVE.o   -lf2c\n",
    "app < input > tmp.out\n",
    "CPU-time: 255.90   f95 -O0 formatted I/O\n",
    "f95 -c -O6  versions/main_wIO.f F77WAVE.f\n",
    "f95 -o app  -static main_wIO.o F77WAVE.o   -lf2c\n",
    "app < input > tmp.out\n",
    "CPU-time: 252.15   f95 -O0 formatted I/O\n",
    "\"\"\"\n",
    "\n",
    "#First we need to extract the lines starting with CPU-time. \n",
    "#Then we need to sort the extracted lines with respect to the CPU time, which is the number appearing in the second column. \n",
    "#Write a script to accomplish this task. \n",
    "\n",
    "#Hint: Find the lines with CPU time results by using a string comparison of the first 7 characters \n",
    "#to detect the keyword CPU-time. Then write a tailored sort function for sorting two lines \n",
    "#(extract the CPU time from the second column in both lines and compare the CPU times as floating-point numbers). \n",
    "#A tailored sort function takes two arguments a and b, which hold two list elements. \n",
    "#The sort function returns -1 if a is less than b, 1 if a is greater than b, and 0 otherwise (a equals b)."
   ]
  },
  {
   "cell_type": "code",
   "execution_count": 15,
   "metadata": {
    "collapsed": true
   },
   "outputs": [],
   "source": [
    "output = \"\"\"\n",
    "f95 -c -O0  versions/main_wIO.f F77WAVE.f\n",
    "f95 -o app  -static main_wIO.o F77WAVE.o   -lf2c\n",
    "app < input > tmp.out\n",
    "CPU-time: 255.97   f95 -O0 formatted I/O\n",
    "f95 -c -O1  versions/main_wIO.f F77WAVE.f\n",
    "f95 -o app  -static main_wIO.o F77WAVE.o   -lf2c\n",
    "app < input > tmp.out\n",
    "CPU-time: 252.47   f95 -O1 formatted I/O\n",
    "f95 -c -O2  versions/main_wIO.f F77WAVE.f\n",
    "f95 -o app  -static main_wIO.o F77WAVE.o   -lf2c\n",
    "app < input > tmp.out\n",
    "CPU-time: 252.40   f95 -O2 formatted I/O\n",
    "f95 -c -O3  versions/main_wIO.f F77WAVE.f\n",
    "f95 -o app  -static main_wIO.o F77WAVE.o   -lf2c\n",
    "app < input > tmp.out\n",
    "CPU-time: 255.28   f95 -O0 formatted I/O\n",
    "f95 -c -O4  versions/main_wIO.f F77WAVE.f\n",
    "f95 -o app  -static main_wIO.o F77WAVE.o   -lf2c\n",
    "app < input > tmp.out\n",
    "CPU-time: 251.43   f95 -O0 formatted I/O\n",
    "f95 -c -O5  versions/main_wIO.f F77WAVE.f\n",
    "f95 -o app  -static main_wIO.o F77WAVE.o   -lf2c\n",
    "app < input > tmp.out\n",
    "CPU-time: 255.90   f95 -O0 formatted I/O\n",
    "f95 -c -O6  versions/main_wIO.f F77WAVE.f\n",
    "f95 -o app  -static main_wIO.o F77WAVE.o   -lf2c\n",
    "app < input > tmp.out\n",
    "CPU-time: 252.15   f95 -O0 formatted I/O\n",
    "\"\"\""
   ]
  },
  {
   "cell_type": "code",
   "execution_count": 16,
   "metadata": {},
   "outputs": [
    {
     "data": {
      "text/plain": [
       "['CPU-time: 251.43   f95 -O0 formatted I/O',\n",
       " 'CPU-time: 252.15   f95 -O0 formatted I/O',\n",
       " 'CPU-time: 252.40   f95 -O2 formatted I/O',\n",
       " 'CPU-time: 252.47   f95 -O1 formatted I/O',\n",
       " 'CPU-time: 255.28   f95 -O0 formatted I/O',\n",
       " 'CPU-time: 255.90   f95 -O0 formatted I/O',\n",
       " 'CPU-time: 255.97   f95 -O0 formatted I/O']"
      ]
     },
     "execution_count": 16,
     "metadata": {},
     "output_type": "execute_result"
    }
   ],
   "source": [
    "###Python implementation\n",
    "a = [i for i in range(len(output)) if output.startswith('CPU-time', i)]\n",
    "p = []\n",
    "for k in a:\n",
    "    p.append(output[k:k+40])\n",
    "p.sort(key=lambda x:float(float(x.split()[1])))\n",
    "p"
   ]
  },
  {
   "cell_type": "code",
   "execution_count": 17,
   "metadata": {},
   "outputs": [
    {
     "name": "stdout",
     "output_type": "stream",
     "text": [
      "CPU-time: 251.43   f95 -O0 formatted I/O\r\n",
      "CPU-time: 252.15   f95 -O0 formatted I/O\r\n",
      "CPU-time: 252.40   f95 -O2 formatted I/O\r\n",
      "CPU-time: 252.47   f95 -O1 formatted I/O\r\n",
      "CPU-time: 255.28   f95 -O0 formatted I/O\r\n",
      "CPU-time: 255.90   f95 -O0 formatted I/O\r\n",
      "CPU-time: 255.97   f95 -O0 formatted I/O\r\n"
     ]
    }
   ],
   "source": [
    "###Unix Implementation\n",
    "!echo \"$output\" | grep \"^CPU-time:\" | sort -n -k2,2"
   ]
  },
  {
   "cell_type": "markdown",
   "metadata": {},
   "source": [
    "### Excercise 7:"
   ]
  },
  {
   "cell_type": "code",
   "execution_count": null,
   "metadata": {
    "collapsed": true
   },
   "outputs": [],
   "source": [
    "#Make a copy of your working directory along with its subdirectories and \n",
    "#write unix+python commands that traverses the copied working directory and its subdirectories (recursively) and returns a \n",
    "#list of all files that are larger than X Mb and that have not been accessed the last Y days, \n",
    "#where X and Y are passed as user inputs.\n",
    "#Include an option in this function that moves the files to a subdirectory trash under /tmp \n",
    "#(you need to create trash if it does not exist)."
   ]
  },
  {
   "cell_type": "code",
   "execution_count": 23,
   "metadata": {},
   "outputs": [
    {
     "name": "stdout",
     "output_type": "stream",
     "text": [
      "Please enter X: 1\n",
      "Please enter Y: 11\n",
      "mkdir: subdir2: File exists\n",
      "cp: subdir2 is a directory (not copied).\n"
     ]
    }
   ],
   "source": [
    "X = raw_input(\"Please enter X: \")\n",
    "Y = raw_input(\"Please enter Y: \")\n",
    "!mkdir subdir2 | cp * subdir2 \n",
    "!cd subdir2\n",
    "!find . -size +$X\"M\" -atime +$Y -print\n",
    "# !find . -size +$X\"M\" -atime +$Y -exec mv {{}} /tmp/trash \\;"
   ]
  },
  {
   "cell_type": "markdown",
   "metadata": {},
   "source": []
  }
 ],
 "metadata": {
  "anaconda-cloud": {},
  "kernelspec": {
   "display_name": "Python [Root]",
   "language": "python",
   "name": "Python [Root]"
  },
  "language_info": {
   "codemirror_mode": {
    "name": "ipython",
    "version": 2
   },
   "file_extension": ".py",
   "mimetype": "text/x-python",
   "name": "python",
   "nbconvert_exporter": "python",
   "pygments_lexer": "ipython2",
   "version": "2.7.13"
  }
 },
 "nbformat": 4,
 "nbformat_minor": 1
}
