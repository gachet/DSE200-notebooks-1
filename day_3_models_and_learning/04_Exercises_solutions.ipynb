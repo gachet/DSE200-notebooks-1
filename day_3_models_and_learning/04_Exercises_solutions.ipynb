{
 "cells": [
  {
   "cell_type": "code",
   "execution_count": 2,
   "metadata": {},
   "outputs": [
    {
     "name": "stdout",
     "output_type": "stream",
     "text": [
      "Populating the interactive namespace from numpy and matplotlib\n",
      "pandas version:  0.20.1 should be at least 0.14.0\n",
      "numpy version: 1.13.3 should be at least 1.8.1\n",
      "sklearn version: 0.18.1 should be at least 0.14.1\n"
     ]
    }
   ],
   "source": [
    "%pylab inline\n",
    "import pandas as pd\n",
    "import numpy as np\n",
    "import sklearn as sk\n",
    "print 'pandas version: ',pd.__version__,'should be at least 0.14.0'\n",
    "print 'numpy version:',np.__version__,'should be at least 1.8.1'\n",
    "print 'sklearn version:',sk.__version__,'should be at least 0.14.1'"
   ]
  },
  {
   "cell_type": "markdown",
   "metadata": {},
   "source": [
    "**Economics dataset analysis**\n",
    "\n",
    "The folder economics (~/DSE200/DSE200/data/economics/) has a set of small datasets corresponding to different economics topics. We will use Pandas to incorporate these datasets into our workflow, merge them and analyze the economic trends as a function of time. (7)\n",
    "\n",
    "To achieve this, do the following\n",
    "\n",
    "1. Read each of the csv files iteratively\n",
    "2. Merge all of the data into a single dataframe.\n",
    "3. Construct the Term and Default premium series using basic math on the series, and merge the resulting series using JOIN operation. HINT: term_premium = merged_data[’GS10’] - merged_data[’GS1’] and default_premium = merged_data[’BAA’] - merged_data[’AAA’]\n",
    "4. Process the data. Processing the data is of utmost importance for better readability and understanding of the data. Process the above data by ensuring the following: i. dropping the rows with null values ii. Output data regularly to see if they are following regular format. Use pandas.series.pct_change/pandas.DataFrame.cumsum wherever necessary (2)\n",
    "5. Plot ’GDP_growth’,’IP_growth’ and 'Unemp_rate' a a function of time and draw inferences\n",
    "6. Use pandas function scatter_matrix to generate scatter plots of ’GDP_growth’,’IP_growth’ and 'Unemp_rate' in a mmatrix form with kernel density plots along the diagonals.\n",
    "\n",
    "**The codes and their corresponding series representation**\n",
    "\n",
    "                            Series                   Code           Frequency\n",
    "                            Real GDP                 GDPC1          Quarterly\n",
    "                            Industrial Production   INDPRO          Quarterly <-- Monthly\n",
    "                            Core CPI               CPILFESL         Monthly\n",
    "                            Unemployment Rate       UNRATE          Monthly\n",
    "                            10 Year Yield            GS10           Monthly\n",
    "                            1 Year Yield             GS1            Monthly\n",
    "                            Baa Yield                BAA            Monthly\n",
    "                            Aaa Yield                AAA            Monthly\n",
    "                                     \n"
   ]
  },
  {
   "cell_type": "code",
   "execution_count": 4,
   "metadata": {},
   "outputs": [
    {
     "name": "stdout",
     "output_type": "stream",
     "text": [
      "[Errno 2] No such file or directory: 'data/economics/'\n",
      "/Users/tushar/Desktop/dse200/Homework/HW3_Solutions/data/economics\n",
      "['AAA.csv', 'BAA.csv', 'CPILFESL.csv', 'GDPC1.csv', 'GS1.csv', 'GS10.csv', 'INDPRO.csv', 'UNRATE.csv']\n"
     ]
    }
   ],
   "source": [
    "%cd data/economics/\n",
    "filenames = !ls\n",
    "print filenames"
   ]
  },
  {
   "cell_type": "code",
   "execution_count": 5,
   "metadata": {},
   "outputs": [
    {
     "name": "stdout",
     "output_type": "stream",
     "text": [
      "             AAA   BAA  CPILFESL  GDPC1  GS1  GS10  INDPRO  UNRATE\n",
      "Date                                                              \n",
      "1919-01-01  5.35  7.12       NaN    NaN  NaN   NaN  4.8582     NaN\n",
      "1919-02-01  5.35  7.20       NaN    NaN  NaN   NaN  4.6435     NaN\n",
      "1919-03-01  5.39  7.15       NaN    NaN  NaN   NaN  4.5092     NaN\n",
      "1919-04-01  5.44  7.23       NaN    NaN  NaN   NaN  4.5898     NaN\n",
      "1919-05-01  5.39  7.09       NaN    NaN  NaN   NaN  4.6166     NaN\n"
     ]
    }
   ],
   "source": [
    "data = []\n",
    "for filename in filenames:\n",
    "    code = filename.split('.')[0]\n",
    "    df = pd.read_csv(filename, header=0, skiprows=0, names=['Date', code], parse_dates=['Date'])\n",
    "    df = df.set_index('Date')\n",
    "    data.append(df)\n",
    "    \n",
    "final_df = pd.concat(data, axis=1)\n",
    "print final_df.head()"
   ]
  },
  {
   "cell_type": "code",
   "execution_count": 6,
   "metadata": {
    "scrolled": true
   },
   "outputs": [
    {
     "name": "stdout",
     "output_type": "stream",
     "text": [
      "Date\n",
      "1919-01-01   NaN\n",
      "1919-02-01   NaN\n",
      "1919-03-01   NaN\n",
      "1919-04-01   NaN\n",
      "1919-05-01   NaN\n",
      "Freq: MS, dtype: float64\n",
      "Date\n",
      "1919-01-01    1.77\n",
      "1919-02-01    1.85\n",
      "1919-03-01    1.76\n",
      "1919-04-01    1.79\n",
      "1919-05-01    1.70\n",
      "Freq: MS, dtype: float64\n"
     ]
    }
   ],
   "source": [
    "# 3\n",
    "\n",
    "term_premium = final_df['GS10'] - final_df['GS1']\n",
    "default_premium = final_df['BAA'] - final_df['AAA']\n",
    "\n",
    "print term_premium.head()\n",
    "print default_premium.head()\n",
    "\n",
    "term_premium_df = pd.DataFrame(term_premium, columns=['term_premium'])\n",
    "default_premium_df = pd.DataFrame(default_premium, columns=['default_premium'])\n",
    "\n",
    "premium_df = term_premium_df.join(default_premium_df)"
   ]
  },
  {
   "cell_type": "code",
   "execution_count": 7,
   "metadata": {},
   "outputs": [
    {
     "data": {
      "text/html": [
       "<div>\n",
       "<style>\n",
       "    .dataframe thead tr:only-child th {\n",
       "        text-align: right;\n",
       "    }\n",
       "\n",
       "    .dataframe thead th {\n",
       "        text-align: left;\n",
       "    }\n",
       "\n",
       "    .dataframe tbody tr th {\n",
       "        vertical-align: top;\n",
       "    }\n",
       "</style>\n",
       "<table border=\"1\" class=\"dataframe\">\n",
       "  <thead>\n",
       "    <tr style=\"text-align: right;\">\n",
       "      <th></th>\n",
       "      <th>term_premium</th>\n",
       "      <th>default_premium</th>\n",
       "    </tr>\n",
       "    <tr>\n",
       "      <th>Date</th>\n",
       "      <th></th>\n",
       "      <th></th>\n",
       "    </tr>\n",
       "  </thead>\n",
       "  <tbody>\n",
       "    <tr>\n",
       "      <th>1919-01-01</th>\n",
       "      <td>NaN</td>\n",
       "      <td>1.77</td>\n",
       "    </tr>\n",
       "    <tr>\n",
       "      <th>1919-02-01</th>\n",
       "      <td>NaN</td>\n",
       "      <td>1.85</td>\n",
       "    </tr>\n",
       "    <tr>\n",
       "      <th>1919-03-01</th>\n",
       "      <td>NaN</td>\n",
       "      <td>1.76</td>\n",
       "    </tr>\n",
       "    <tr>\n",
       "      <th>1919-04-01</th>\n",
       "      <td>NaN</td>\n",
       "      <td>1.79</td>\n",
       "    </tr>\n",
       "    <tr>\n",
       "      <th>1919-05-01</th>\n",
       "      <td>NaN</td>\n",
       "      <td>1.70</td>\n",
       "    </tr>\n",
       "  </tbody>\n",
       "</table>\n",
       "</div>"
      ],
      "text/plain": [
       "            term_premium  default_premium\n",
       "Date                                     \n",
       "1919-01-01           NaN             1.77\n",
       "1919-02-01           NaN             1.85\n",
       "1919-03-01           NaN             1.76\n",
       "1919-04-01           NaN             1.79\n",
       "1919-05-01           NaN             1.70"
      ]
     },
     "execution_count": 7,
     "metadata": {},
     "output_type": "execute_result"
    }
   ],
   "source": [
    "premium_df.head()"
   ]
  },
  {
   "cell_type": "code",
   "execution_count": 8,
   "metadata": {},
   "outputs": [
    {
     "data": {
      "text/plain": [
       "Text(0,0.5,u'Percent Change of GDP per Quarter')"
      ]
     },
     "execution_count": 8,
     "metadata": {},
     "output_type": "execute_result"
    },
    {
     "data": {
      "image/png": "[encoded data removed]",
      "text/plain": [
       "<matplotlib.figure.Figure at 0x11bea2d50>"
      ]
     },
     "metadata": {},
     "output_type": "display_data"
    }
   ],
   "source": [
    "#4\n",
    "\n",
    "plt.plot(final_df.GDPC1[final_df.GDPC1.notnull()].pct_change(4))\n",
    "plt.ylabel('Percent Change of GDP per Quarter')"
   ]
  },
  {
   "cell_type": "code",
   "execution_count": 9,
   "metadata": {},
   "outputs": [
    {
     "data": {
      "text/plain": [
       "Text(0,0.5,u'Percentage change of Industrial Production per month')"
      ]
     },
     "execution_count": 9,
     "metadata": {},
     "output_type": "execute_result"
    },
    {
     "data": {
      "image/png": "[encoded data removed]",
      "text/plain": [
       "<matplotlib.figure.Figure at 0x11bf3d350>"
      ]
     },
     "metadata": {},
     "output_type": "display_data"
    }
   ],
   "source": [
    "fig, ax1 = plt.subplots()\n",
    "\n",
    "ax1.plot(final_df.INDPRO[final_df.INDPRO.notnull()].cumsum(), color='b')\n",
    "ax1.set_ylabel('cumulative sum of Industrial Production', color='b')\n",
    "\n",
    "ax2 = ax1.twinx()\n",
    "ax2.plot(final_df.INDPRO[final_df.INDPRO.notnull()].pct_change(1), color='r')\n",
    "ax2.set_ylabel('Percentage change of Industrial Production per month', color='r')\n",
    "\n"
   ]
  },
  {
   "cell_type": "code",
   "execution_count": 11,
   "metadata": {},
   "outputs": [
    {
     "data": {
      "text/plain": [
       "Text(0,0.5,u'GDPC1')"
      ]
     },
     "execution_count": 11,
     "metadata": {},
     "output_type": "execute_result"
    },
    {
     "data": {
      "image/png": "[encoded data removed]",
      "text/plain": [
       "<matplotlib.figure.Figure at 0x11c178f10>"
      ]
     },
     "metadata": {},
     "output_type": "display_data"
    }
   ],
   "source": [
    "#5\n",
    "plt.plot(final_df.GDPC1[final_df.GDPC1.notnull()])\n",
    "plt.ylabel('GDPC1')\n",
    "\n",
    "# Plotting pct change is same as above."
   ]
  },
  {
   "cell_type": "code",
   "execution_count": 14,
   "metadata": {},
   "outputs": [
    {
     "data": {
      "text/plain": [
       "Text(0,0.5,u'INDPRO')"
      ]
     },
     "execution_count": 14,
     "metadata": {},
     "output_type": "execute_result"
    },
    {
     "data": {
      "image/png": "[encoded data removed]",
      "text/plain": [
       "<matplotlib.figure.Figure at 0x11c3a1090>"
      ]
     },
     "metadata": {},
     "output_type": "display_data"
    }
   ],
   "source": [
    "plt.plot(final_df.INDPRO[final_df.INDPRO.notnull()])\n",
    "plt.ylabel('INDPRO')"
   ]
  },
  {
   "cell_type": "code",
   "execution_count": 16,
   "metadata": {},
   "outputs": [
    {
     "data": {
      "text/plain": [
       "Text(0,0.5,u'UNRATE')"
      ]
     },
     "execution_count": 16,
     "metadata": {},
     "output_type": "execute_result"
    },
    {
     "data": {
      "image/png": "[encoded data removed]",
      "text/plain": [
       "<matplotlib.figure.Figure at 0x11c3ab450>"
      ]
     },
     "metadata": {},
     "output_type": "display_data"
    }
   ],
   "source": [
    "plt.plot(final_df.UNRATE[final_df.UNRATE.notnull()])\n",
    "plt.ylabel('UNRATE')"
   ]
  },
  {
   "cell_type": "markdown",
   "metadata": {},
   "source": [
    "#### Similar Analysis can be performed for other columns as well."
   ]
  },
  {
   "cell_type": "code",
   "execution_count": 89,
   "metadata": {},
   "outputs": [
    {
     "name": "stderr",
     "output_type": "stream",
     "text": [
      "/anaconda/lib/python2.7/site-packages/ipykernel/__main__.py:2: FutureWarning: pandas.scatter_matrix is deprecated. Use pandas.plotting.scatter_matrix instead\n",
      "  from ipykernel import kernelapp as app\n"
     ]
    },
    {
     "data": {
      "text/plain": [
       "array([[<matplotlib.axes._subplots.AxesSubplot object at 0x12e327d10>,\n",
       "        <matplotlib.axes._subplots.AxesSubplot object at 0x12e3a5590>,\n",
       "        <matplotlib.axes._subplots.AxesSubplot object at 0x12e6aaf10>],\n",
       "       [<matplotlib.axes._subplots.AxesSubplot object at 0x12e358a50>,\n",
       "        <matplotlib.axes._subplots.AxesSubplot object at 0x12dec1410>,\n",
       "        <matplotlib.axes._subplots.AxesSubplot object at 0x12e0b8450>],\n",
       "       [<matplotlib.axes._subplots.AxesSubplot object at 0x12e219fd0>,\n",
       "        <matplotlib.axes._subplots.AxesSubplot object at 0x12dfb3990>,\n",
       "        <matplotlib.axes._subplots.AxesSubplot object at 0x12e7413d0>]], dtype=object)"
      ]
     },
     "execution_count": 89,
     "metadata": {},
     "output_type": "execute_result"
    },
    {
     "data": {
      "image/png": "[encoded data removed]",
      "text/plain": [
       "<matplotlib.figure.Figure at 0x12f104910>"
      ]
     },
     "metadata": {},
     "output_type": "display_data"
    }
   ],
   "source": [
    "#6\n",
    "pd.scatter_matrix(final_df[[\"GDPC1\", \"INDPRO\", \"UNRATE\"]], alpha=0.5, figsize=(6, 6), diagonal='kde')"
   ]
  },
  {
   "cell_type": "markdown",
   "metadata": {},
   "source": [
    "**Nutrition dataset analysis**\n",
    "\n",
    "Download the dataset from http://ashleyw.co.uk/files/foods-2011-10-03.json.zip\n",
    "This data set is a compilation of data provided by the US department of Agriculture. The data set contains data for 6,636 unique foods and 94 unique nutrients (with an average of 56.5 nutrients per food)\n",
    "\n",
    "Do the following\n",
    "\n",
    "Use the built in python json module to load the food data into a python list\n",
    "\n",
    "Your code should look like this\n",
    "\n",
    "> import json\n",
    ">\n",
    "> db = json.load(open('../data/Nutrition/foods-2011-10-03.json'))\n",
    "\n",
    "db will be a list of 6636 python dictionaries, each containing nutritional information for a different food item. Each dictionary will have the following keys:\n",
    "\n",
    "    1.portions\n",
    "    2.description\n",
    "    3.tags\n",
    "    4.nutrients\n",
    "    5.group\n",
    "    6.id\n",
    "    7.manufacture\n",
    "\n",
    "Now, create a DataFrame of meta_data using the description, group, id, and manufacturer items in each dictionary. (1)\n",
    "\n",
    "Loop over db and construct a list of DataFrames containing the nutritional information for each record in db. Make sure to add a column to each of these DataFrames that contains the unique food id (id key in the dictionary) (1)\n",
    "\n",
    "Finally, use the pandas combining techniques to create a nutrients DataFrame. After you have done this drop duplicate entries in this DataFrame. For example, if you had named the objects nuts you would do\n",
    "\n",
    "nuts = nuts.drop_duplicates()\n",
    "\n",
    "Use the rename method to make sure that the description and group columns are un-ambiguous for both the meta_data DataFrame and the nutrients DataFrame (These column names are duplicated because every food has a description and group and each nutrient also has those identifiers). (1)\n",
    "\n",
    "Finally, use the data combining routines to come up with a foods DataFrame containing all the meta_data and nutritional information. Make sure to do an outer style merge on the correct columns. (1)\n",
    "\n",
    "Using the foods DataFrame you have been building, compute the following things (2):\n",
    "\n",
    "1. The food item with the highest content of each nutrient. \n",
    "2. A function that accepts a nutrient name and a quantile value and generates a horizontal bar plot of the amount of that nutrient in each food group. Provide a plot title. HINT: You will need to use the quantile and sort (or order ) methods in order for this to work. "
   ]
  },
  {
   "cell_type": "code",
   "execution_count": 8,
   "metadata": {
    "collapsed": true
   },
   "outputs": [],
   "source": [
    "import json\n",
    "db = json.load(open('data/Nutrition/foods-2011-10-03.json'))"
   ]
  },
  {
   "cell_type": "code",
   "execution_count": 9,
   "metadata": {
    "collapsed": true
   },
   "outputs": [],
   "source": [
    "meta_cols = ['description', 'group', 'id', 'manufacturer']\n",
    "meta_df = pd.DataFrame(db, columns=meta_cols)"
   ]
  },
  {
   "cell_type": "code",
   "execution_count": 10,
   "metadata": {},
   "outputs": [
    {
     "data": {
      "text/html": [
       "<div>\n",
       "<style>\n",
       "    .dataframe thead tr:only-child th {\n",
       "        text-align: right;\n",
       "    }\n",
       "\n",
       "    .dataframe thead th {\n",
       "        text-align: left;\n",
       "    }\n",
       "\n",
       "    .dataframe tbody tr th {\n",
       "        vertical-align: top;\n",
       "    }\n",
       "</style>\n",
       "<table border=\"1\" class=\"dataframe\">\n",
       "  <thead>\n",
       "    <tr style=\"text-align: right;\">\n",
       "      <th></th>\n",
       "      <th>description</th>\n",
       "      <th>group</th>\n",
       "      <th>id</th>\n",
       "      <th>manufacturer</th>\n",
       "    </tr>\n",
       "  </thead>\n",
       "  <tbody>\n",
       "    <tr>\n",
       "      <th>0</th>\n",
       "      <td>Cheese, caraway</td>\n",
       "      <td>Dairy and Egg Products</td>\n",
       "      <td>1008</td>\n",
       "      <td></td>\n",
       "    </tr>\n",
       "    <tr>\n",
       "      <th>1</th>\n",
       "      <td>Cheese, cheddar</td>\n",
       "      <td>Dairy and Egg Products</td>\n",
       "      <td>1009</td>\n",
       "      <td></td>\n",
       "    </tr>\n",
       "    <tr>\n",
       "      <th>2</th>\n",
       "      <td>Cheese, edam</td>\n",
       "      <td>Dairy and Egg Products</td>\n",
       "      <td>1018</td>\n",
       "      <td></td>\n",
       "    </tr>\n",
       "    <tr>\n",
       "      <th>3</th>\n",
       "      <td>Cheese, feta</td>\n",
       "      <td>Dairy and Egg Products</td>\n",
       "      <td>1019</td>\n",
       "      <td></td>\n",
       "    </tr>\n",
       "    <tr>\n",
       "      <th>4</th>\n",
       "      <td>Cheese, mozzarella, part skim milk</td>\n",
       "      <td>Dairy and Egg Products</td>\n",
       "      <td>1028</td>\n",
       "      <td></td>\n",
       "    </tr>\n",
       "  </tbody>\n",
       "</table>\n",
       "</div>"
      ],
      "text/plain": [
       "                          description                   group    id  \\\n",
       "0                     Cheese, caraway  Dairy and Egg Products  1008   \n",
       "1                     Cheese, cheddar  Dairy and Egg Products  1009   \n",
       "2                        Cheese, edam  Dairy and Egg Products  1018   \n",
       "3                        Cheese, feta  Dairy and Egg Products  1019   \n",
       "4  Cheese, mozzarella, part skim milk  Dairy and Egg Products  1028   \n",
       "\n",
       "  manufacturer  \n",
       "0               \n",
       "1               \n",
       "2               \n",
       "3               \n",
       "4               "
      ]
     },
     "execution_count": 10,
     "metadata": {},
     "output_type": "execute_result"
    }
   ],
   "source": [
    "meta_df.head()"
   ]
  },
  {
   "cell_type": "code",
   "execution_count": 11,
   "metadata": {},
   "outputs": [
    {
     "name": "stdout",
     "output_type": "stream",
     "text": [
      "duplicates:  14179\n"
     ]
    }
   ],
   "source": [
    "df_list = []\n",
    "\n",
    "for record in db:\n",
    "    record_df = pd.DataFrame(record['nutrients'])\n",
    "    record_df['id'] = record['id']\n",
    "    df_list.append(record_df)\n",
    "\n",
    "nutrient_df = pd.concat(df_list, ignore_index=True)\n",
    "print \"duplicates: \", nutrient_df.duplicated().sum()\n",
    "nutrient_df = nutrient_df.drop_duplicates()\n",
    "print \"duplicates: \", nutrient_df.duplicated().sum()"
   ]
  },
  {
   "cell_type": "code",
   "execution_count": 15,
   "metadata": {},
   "outputs": [
    {
     "data": {
      "text/html": [
       "<div>\n",
       "<style>\n",
       "    .dataframe thead tr:only-child th {\n",
       "        text-align: right;\n",
       "    }\n",
       "\n",
       "    .dataframe thead th {\n",
       "        text-align: left;\n",
       "    }\n",
       "\n",
       "    .dataframe tbody tr th {\n",
       "        vertical-align: top;\n",
       "    }\n",
       "</style>\n",
       "<table border=\"1\" class=\"dataframe\">\n",
       "  <thead>\n",
       "    <tr style=\"text-align: right;\">\n",
       "      <th></th>\n",
       "      <th>description</th>\n",
       "      <th>group</th>\n",
       "      <th>units</th>\n",
       "      <th>value</th>\n",
       "      <th>id</th>\n",
       "    </tr>\n",
       "  </thead>\n",
       "  <tbody>\n",
       "    <tr>\n",
       "      <th>0</th>\n",
       "      <td>Protein</td>\n",
       "      <td>Composition</td>\n",
       "      <td>g</td>\n",
       "      <td>25.18</td>\n",
       "      <td>1008</td>\n",
       "    </tr>\n",
       "    <tr>\n",
       "      <th>1</th>\n",
       "      <td>Total lipid (fat)</td>\n",
       "      <td>Composition</td>\n",
       "      <td>g</td>\n",
       "      <td>29.20</td>\n",
       "      <td>1008</td>\n",
       "    </tr>\n",
       "    <tr>\n",
       "      <th>2</th>\n",
       "      <td>Carbohydrate, by difference</td>\n",
       "      <td>Composition</td>\n",
       "      <td>g</td>\n",
       "      <td>3.06</td>\n",
       "      <td>1008</td>\n",
       "    </tr>\n",
       "    <tr>\n",
       "      <th>3</th>\n",
       "      <td>Ash</td>\n",
       "      <td>Other</td>\n",
       "      <td>g</td>\n",
       "      <td>3.28</td>\n",
       "      <td>1008</td>\n",
       "    </tr>\n",
       "    <tr>\n",
       "      <th>4</th>\n",
       "      <td>Energy</td>\n",
       "      <td>Energy</td>\n",
       "      <td>kcal</td>\n",
       "      <td>376.00</td>\n",
       "      <td>1008</td>\n",
       "    </tr>\n",
       "  </tbody>\n",
       "</table>\n",
       "</div>"
      ],
      "text/plain": [
       "                   description        group units   value    id\n",
       "0                      Protein  Composition     g   25.18  1008\n",
       "1            Total lipid (fat)  Composition     g   29.20  1008\n",
       "2  Carbohydrate, by difference  Composition     g    3.06  1008\n",
       "3                          Ash        Other     g    3.28  1008\n",
       "4                       Energy       Energy  kcal  376.00  1008"
      ]
     },
     "execution_count": 15,
     "metadata": {},
     "output_type": "execute_result"
    }
   ],
   "source": [
    "nutrient_df.head()"
   ]
  },
  {
   "cell_type": "code",
   "execution_count": 16,
   "metadata": {},
   "outputs": [
    {
     "data": {
      "text/html": [
       "<div>\n",
       "<style>\n",
       "    .dataframe thead tr:only-child th {\n",
       "        text-align: right;\n",
       "    }\n",
       "\n",
       "    .dataframe thead th {\n",
       "        text-align: left;\n",
       "    }\n",
       "\n",
       "    .dataframe tbody tr th {\n",
       "        vertical-align: top;\n",
       "    }\n",
       "</style>\n",
       "<table border=\"1\" class=\"dataframe\">\n",
       "  <thead>\n",
       "    <tr style=\"text-align: right;\">\n",
       "      <th></th>\n",
       "      <th>description</th>\n",
       "      <th>group</th>\n",
       "      <th>id</th>\n",
       "      <th>manufacturer</th>\n",
       "    </tr>\n",
       "  </thead>\n",
       "  <tbody>\n",
       "    <tr>\n",
       "      <th>0</th>\n",
       "      <td>Cheese, caraway</td>\n",
       "      <td>Dairy and Egg Products</td>\n",
       "      <td>1008</td>\n",
       "      <td></td>\n",
       "    </tr>\n",
       "    <tr>\n",
       "      <th>1</th>\n",
       "      <td>Cheese, cheddar</td>\n",
       "      <td>Dairy and Egg Products</td>\n",
       "      <td>1009</td>\n",
       "      <td></td>\n",
       "    </tr>\n",
       "    <tr>\n",
       "      <th>2</th>\n",
       "      <td>Cheese, edam</td>\n",
       "      <td>Dairy and Egg Products</td>\n",
       "      <td>1018</td>\n",
       "      <td></td>\n",
       "    </tr>\n",
       "    <tr>\n",
       "      <th>3</th>\n",
       "      <td>Cheese, feta</td>\n",
       "      <td>Dairy and Egg Products</td>\n",
       "      <td>1019</td>\n",
       "      <td></td>\n",
       "    </tr>\n",
       "    <tr>\n",
       "      <th>4</th>\n",
       "      <td>Cheese, mozzarella, part skim milk</td>\n",
       "      <td>Dairy and Egg Products</td>\n",
       "      <td>1028</td>\n",
       "      <td></td>\n",
       "    </tr>\n",
       "  </tbody>\n",
       "</table>\n",
       "</div>"
      ],
      "text/plain": [
       "                          description                   group    id  \\\n",
       "0                     Cheese, caraway  Dairy and Egg Products  1008   \n",
       "1                     Cheese, cheddar  Dairy and Egg Products  1009   \n",
       "2                        Cheese, edam  Dairy and Egg Products  1018   \n",
       "3                        Cheese, feta  Dairy and Egg Products  1019   \n",
       "4  Cheese, mozzarella, part skim milk  Dairy and Egg Products  1028   \n",
       "\n",
       "  manufacturer  \n",
       "0               \n",
       "1               \n",
       "2               \n",
       "3               \n",
       "4               "
      ]
     },
     "execution_count": 16,
     "metadata": {},
     "output_type": "execute_result"
    }
   ],
   "source": [
    "meta_df.head()"
   ]
  },
  {
   "cell_type": "code",
   "execution_count": 17,
   "metadata": {},
   "outputs": [
    {
     "data": {
      "text/html": [
       "<div>\n",
       "<style>\n",
       "    .dataframe thead tr:only-child th {\n",
       "        text-align: right;\n",
       "    }\n",
       "\n",
       "    .dataframe thead th {\n",
       "        text-align: left;\n",
       "    }\n",
       "\n",
       "    .dataframe tbody tr th {\n",
       "        vertical-align: top;\n",
       "    }\n",
       "</style>\n",
       "<table border=\"1\" class=\"dataframe\">\n",
       "  <thead>\n",
       "    <tr style=\"text-align: right;\">\n",
       "      <th></th>\n",
       "      <th>nutrient_description</th>\n",
       "      <th>nutrient_group</th>\n",
       "      <th>units</th>\n",
       "      <th>value</th>\n",
       "      <th>id</th>\n",
       "    </tr>\n",
       "  </thead>\n",
       "  <tbody>\n",
       "    <tr>\n",
       "      <th>0</th>\n",
       "      <td>Protein</td>\n",
       "      <td>Composition</td>\n",
       "      <td>g</td>\n",
       "      <td>25.18</td>\n",
       "      <td>1008</td>\n",
       "    </tr>\n",
       "    <tr>\n",
       "      <th>1</th>\n",
       "      <td>Total lipid (fat)</td>\n",
       "      <td>Composition</td>\n",
       "      <td>g</td>\n",
       "      <td>29.20</td>\n",
       "      <td>1008</td>\n",
       "    </tr>\n",
       "    <tr>\n",
       "      <th>2</th>\n",
       "      <td>Carbohydrate, by difference</td>\n",
       "      <td>Composition</td>\n",
       "      <td>g</td>\n",
       "      <td>3.06</td>\n",
       "      <td>1008</td>\n",
       "    </tr>\n",
       "    <tr>\n",
       "      <th>3</th>\n",
       "      <td>Ash</td>\n",
       "      <td>Other</td>\n",
       "      <td>g</td>\n",
       "      <td>3.28</td>\n",
       "      <td>1008</td>\n",
       "    </tr>\n",
       "    <tr>\n",
       "      <th>4</th>\n",
       "      <td>Energy</td>\n",
       "      <td>Energy</td>\n",
       "      <td>kcal</td>\n",
       "      <td>376.00</td>\n",
       "      <td>1008</td>\n",
       "    </tr>\n",
       "  </tbody>\n",
       "</table>\n",
       "</div>"
      ],
      "text/plain": [
       "          nutrient_description nutrient_group units   value    id\n",
       "0                      Protein    Composition     g   25.18  1008\n",
       "1            Total lipid (fat)    Composition     g   29.20  1008\n",
       "2  Carbohydrate, by difference    Composition     g    3.06  1008\n",
       "3                          Ash          Other     g    3.28  1008\n",
       "4                       Energy         Energy  kcal  376.00  1008"
      ]
     },
     "execution_count": 17,
     "metadata": {},
     "output_type": "execute_result"
    }
   ],
   "source": [
    "nutrient_df_col_map = {'description': 'nutrient_description',\n",
    "                     'group': 'nutrient_group'}\n",
    "nutrient_df = nutrient_df.rename(columns=nutrient_df_col_map)\n",
    "nutrient_df.head()"
   ]
  },
  {
   "cell_type": "code",
   "execution_count": 18,
   "metadata": {},
   "outputs": [
    {
     "data": {
      "text/html": [
       "<div>\n",
       "<style>\n",
       "    .dataframe thead tr:only-child th {\n",
       "        text-align: right;\n",
       "    }\n",
       "\n",
       "    .dataframe thead th {\n",
       "        text-align: left;\n",
       "    }\n",
       "\n",
       "    .dataframe tbody tr th {\n",
       "        vertical-align: top;\n",
       "    }\n",
       "</style>\n",
       "<table border=\"1\" class=\"dataframe\">\n",
       "  <thead>\n",
       "    <tr style=\"text-align: right;\">\n",
       "      <th></th>\n",
       "      <th>meta_data_description</th>\n",
       "      <th>meta_data_group</th>\n",
       "      <th>id</th>\n",
       "      <th>manufacturer</th>\n",
       "    </tr>\n",
       "  </thead>\n",
       "  <tbody>\n",
       "    <tr>\n",
       "      <th>0</th>\n",
       "      <td>Cheese, caraway</td>\n",
       "      <td>Dairy and Egg Products</td>\n",
       "      <td>1008</td>\n",
       "      <td></td>\n",
       "    </tr>\n",
       "    <tr>\n",
       "      <th>1</th>\n",
       "      <td>Cheese, cheddar</td>\n",
       "      <td>Dairy and Egg Products</td>\n",
       "      <td>1009</td>\n",
       "      <td></td>\n",
       "    </tr>\n",
       "    <tr>\n",
       "      <th>2</th>\n",
       "      <td>Cheese, edam</td>\n",
       "      <td>Dairy and Egg Products</td>\n",
       "      <td>1018</td>\n",
       "      <td></td>\n",
       "    </tr>\n",
       "    <tr>\n",
       "      <th>3</th>\n",
       "      <td>Cheese, feta</td>\n",
       "      <td>Dairy and Egg Products</td>\n",
       "      <td>1019</td>\n",
       "      <td></td>\n",
       "    </tr>\n",
       "    <tr>\n",
       "      <th>4</th>\n",
       "      <td>Cheese, mozzarella, part skim milk</td>\n",
       "      <td>Dairy and Egg Products</td>\n",
       "      <td>1028</td>\n",
       "      <td></td>\n",
       "    </tr>\n",
       "  </tbody>\n",
       "</table>\n",
       "</div>"
      ],
      "text/plain": [
       "                meta_data_description         meta_data_group    id  \\\n",
       "0                     Cheese, caraway  Dairy and Egg Products  1008   \n",
       "1                     Cheese, cheddar  Dairy and Egg Products  1009   \n",
       "2                        Cheese, edam  Dairy and Egg Products  1018   \n",
       "3                        Cheese, feta  Dairy and Egg Products  1019   \n",
       "4  Cheese, mozzarella, part skim milk  Dairy and Egg Products  1028   \n",
       "\n",
       "  manufacturer  \n",
       "0               \n",
       "1               \n",
       "2               \n",
       "3               \n",
       "4               "
      ]
     },
     "execution_count": 18,
     "metadata": {},
     "output_type": "execute_result"
    }
   ],
   "source": [
    "meta_df_col_map = {'description': 'meta_data_description',\n",
    "                     'group': 'meta_data_group'}\n",
    "meta_df = meta_df.rename(columns=meta_df_col_map)\n",
    "meta_df.head()"
   ]
  },
  {
   "cell_type": "code",
   "execution_count": 19,
   "metadata": {},
   "outputs": [
    {
     "data": {
      "text/html": [
       "<div>\n",
       "<style>\n",
       "    .dataframe thead tr:only-child th {\n",
       "        text-align: right;\n",
       "    }\n",
       "\n",
       "    .dataframe thead th {\n",
       "        text-align: left;\n",
       "    }\n",
       "\n",
       "    .dataframe tbody tr th {\n",
       "        vertical-align: top;\n",
       "    }\n",
       "</style>\n",
       "<table border=\"1\" class=\"dataframe\">\n",
       "  <thead>\n",
       "    <tr style=\"text-align: right;\">\n",
       "      <th></th>\n",
       "      <th>meta_data_description</th>\n",
       "      <th>meta_data_group</th>\n",
       "      <th>id</th>\n",
       "      <th>manufacturer</th>\n",
       "      <th>nutrient_description</th>\n",
       "      <th>nutrient_group</th>\n",
       "      <th>units</th>\n",
       "      <th>value</th>\n",
       "    </tr>\n",
       "  </thead>\n",
       "  <tbody>\n",
       "    <tr>\n",
       "      <th>0</th>\n",
       "      <td>Cheese, caraway</td>\n",
       "      <td>Dairy and Egg Products</td>\n",
       "      <td>1008</td>\n",
       "      <td></td>\n",
       "      <td>Protein</td>\n",
       "      <td>Composition</td>\n",
       "      <td>g</td>\n",
       "      <td>25.18</td>\n",
       "    </tr>\n",
       "    <tr>\n",
       "      <th>1</th>\n",
       "      <td>Cheese, caraway</td>\n",
       "      <td>Dairy and Egg Products</td>\n",
       "      <td>1008</td>\n",
       "      <td></td>\n",
       "      <td>Total lipid (fat)</td>\n",
       "      <td>Composition</td>\n",
       "      <td>g</td>\n",
       "      <td>29.20</td>\n",
       "    </tr>\n",
       "    <tr>\n",
       "      <th>2</th>\n",
       "      <td>Cheese, caraway</td>\n",
       "      <td>Dairy and Egg Products</td>\n",
       "      <td>1008</td>\n",
       "      <td></td>\n",
       "      <td>Carbohydrate, by difference</td>\n",
       "      <td>Composition</td>\n",
       "      <td>g</td>\n",
       "      <td>3.06</td>\n",
       "    </tr>\n",
       "    <tr>\n",
       "      <th>3</th>\n",
       "      <td>Cheese, caraway</td>\n",
       "      <td>Dairy and Egg Products</td>\n",
       "      <td>1008</td>\n",
       "      <td></td>\n",
       "      <td>Ash</td>\n",
       "      <td>Other</td>\n",
       "      <td>g</td>\n",
       "      <td>3.28</td>\n",
       "    </tr>\n",
       "    <tr>\n",
       "      <th>4</th>\n",
       "      <td>Cheese, caraway</td>\n",
       "      <td>Dairy and Egg Products</td>\n",
       "      <td>1008</td>\n",
       "      <td></td>\n",
       "      <td>Energy</td>\n",
       "      <td>Energy</td>\n",
       "      <td>kcal</td>\n",
       "      <td>376.00</td>\n",
       "    </tr>\n",
       "  </tbody>\n",
       "</table>\n",
       "</div>"
      ],
      "text/plain": [
       "  meta_data_description         meta_data_group    id manufacturer  \\\n",
       "0       Cheese, caraway  Dairy and Egg Products  1008                \n",
       "1       Cheese, caraway  Dairy and Egg Products  1008                \n",
       "2       Cheese, caraway  Dairy and Egg Products  1008                \n",
       "3       Cheese, caraway  Dairy and Egg Products  1008                \n",
       "4       Cheese, caraway  Dairy and Egg Products  1008                \n",
       "\n",
       "          nutrient_description nutrient_group units   value  \n",
       "0                      Protein    Composition     g   25.18  \n",
       "1            Total lipid (fat)    Composition     g   29.20  \n",
       "2  Carbohydrate, by difference    Composition     g    3.06  \n",
       "3                          Ash          Other     g    3.28  \n",
       "4                       Energy         Energy  kcal  376.00  "
      ]
     },
     "execution_count": 19,
     "metadata": {},
     "output_type": "execute_result"
    }
   ],
   "source": [
    "final_df = pd.merge(meta_df, nutrient_df, on='id', how='outer')\n",
    "final_df.head()"
   ]
  },
  {
   "cell_type": "code",
   "execution_count": 25,
   "metadata": {
    "scrolled": true
   },
   "outputs": [
    {
     "data": {
      "text/html": [
       "<div>\n",
       "<style>\n",
       "    .dataframe thead tr:only-child th {\n",
       "        text-align: right;\n",
       "    }\n",
       "\n",
       "    .dataframe thead th {\n",
       "        text-align: left;\n",
       "    }\n",
       "\n",
       "    .dataframe tbody tr th {\n",
       "        vertical-align: top;\n",
       "    }\n",
       "</style>\n",
       "<table border=\"1\" class=\"dataframe\">\n",
       "  <thead>\n",
       "    <tr style=\"text-align: right;\">\n",
       "      <th></th>\n",
       "      <th>nutrient_description</th>\n",
       "      <th>meta_data_description</th>\n",
       "      <th>value</th>\n",
       "    </tr>\n",
       "  </thead>\n",
       "  <tbody>\n",
       "    <tr>\n",
       "      <th>211922</th>\n",
       "      <td>Adjusted Protein</td>\n",
       "      <td>Baking chocolate, unsweetened, squares</td>\n",
       "      <td>12.900</td>\n",
       "    </tr>\n",
       "    <tr>\n",
       "      <th>216406</th>\n",
       "      <td>Alanine</td>\n",
       "      <td>Gelatins, dry powder, unsweetened</td>\n",
       "      <td>8.009</td>\n",
       "    </tr>\n",
       "    <tr>\n",
       "      <th>338824</th>\n",
       "      <td>Alcohol, ethyl</td>\n",
       "      <td>Alcoholic beverage, distilled, all (gin, rum, ...</td>\n",
       "      <td>42.500</td>\n",
       "    </tr>\n",
       "    <tr>\n",
       "      <th>142594</th>\n",
       "      <td>Arginine</td>\n",
       "      <td>Seeds, sesame flour, low-fat</td>\n",
       "      <td>7.436</td>\n",
       "    </tr>\n",
       "    <tr>\n",
       "      <th>218421</th>\n",
       "      <td>Ash</td>\n",
       "      <td>Desserts, rennin, tablets, unsweetened</td>\n",
       "      <td>72.500</td>\n",
       "    </tr>\n",
       "    <tr>\n",
       "      <th>172767</th>\n",
       "      <td>Aspartic acid</td>\n",
       "      <td>Soy protein isolate</td>\n",
       "      <td>10.203</td>\n",
       "    </tr>\n",
       "    <tr>\n",
       "      <th>33610</th>\n",
       "      <td>Beta-sitosterol</td>\n",
       "      <td>Oil, vegetable, Natreon canola, high stability...</td>\n",
       "      <td>426.000</td>\n",
       "    </tr>\n",
       "    <tr>\n",
       "      <th>230328</th>\n",
       "      <td>Betaine</td>\n",
       "      <td>Quinoa, uncooked</td>\n",
       "      <td>630.400</td>\n",
       "    </tr>\n",
       "    <tr>\n",
       "      <th>336702</th>\n",
       "      <td>Caffeine</td>\n",
       "      <td>Tea, instant, unsweetened, powder</td>\n",
       "      <td>3680.000</td>\n",
       "    </tr>\n",
       "    <tr>\n",
       "      <th>201671</th>\n",
       "      <td>Calcium, Ca</td>\n",
       "      <td>Leavening agents, baking powder, double-acting...</td>\n",
       "      <td>7364.000</td>\n",
       "    </tr>\n",
       "    <tr>\n",
       "      <th>32328</th>\n",
       "      <td>Campesterol</td>\n",
       "      <td>Oil, canola</td>\n",
       "      <td>241.000</td>\n",
       "    </tr>\n",
       "    <tr>\n",
       "      <th>291192</th>\n",
       "      <td>Carbohydrate, by difference</td>\n",
       "      <td>Sweeteners, tabletop, fructose, dry, powder</td>\n",
       "      <td>100.000</td>\n",
       "    </tr>\n",
       "    <tr>\n",
       "      <th>129331</th>\n",
       "      <td>Carotene, alpha</td>\n",
       "      <td>Carrot, dehydrated</td>\n",
       "      <td>14251.000</td>\n",
       "    </tr>\n",
       "    <tr>\n",
       "      <th>139191</th>\n",
       "      <td>Carotene, beta</td>\n",
       "      <td>Peppers, sweet, red, freeze-dried</td>\n",
       "      <td>42891.000</td>\n",
       "    </tr>\n",
       "    <tr>\n",
       "      <th>151363</th>\n",
       "      <td>Cholesterol</td>\n",
       "      <td>Beef, variety meats and by-products, brain, co...</td>\n",
       "      <td>3100.000</td>\n",
       "    </tr>\n",
       "    <tr>\n",
       "      <th>151576</th>\n",
       "      <td>Choline, total</td>\n",
       "      <td>Beef, variety meats and by-products, kidneys, ...</td>\n",
       "      <td>513.200</td>\n",
       "    </tr>\n",
       "    <tr>\n",
       "      <th>184533</th>\n",
       "      <td>Copper, Cu</td>\n",
       "      <td>Veal, variety meats and by-products, liver, co...</td>\n",
       "      <td>15.050</td>\n",
       "    </tr>\n",
       "    <tr>\n",
       "      <th>17607</th>\n",
       "      <td>Cryptoxanthin, beta</td>\n",
       "      <td>Spices, paprika</td>\n",
       "      <td>6186.000</td>\n",
       "    </tr>\n",
       "    <tr>\n",
       "      <th>141895</th>\n",
       "      <td>Cystine</td>\n",
       "      <td>Seeds, cottonseed flour, low fat (glandless)</td>\n",
       "      <td>1.307</td>\n",
       "    </tr>\n",
       "    <tr>\n",
       "      <th>33032</th>\n",
       "      <td>Dihydrophylloquinone</td>\n",
       "      <td>Margarine, 80% fat, stick, includes regular an...</td>\n",
       "      <td>103.800</td>\n",
       "    </tr>\n",
       "    <tr>\n",
       "      <th>32642</th>\n",
       "      <td>Energy</td>\n",
       "      <td>Fish oil, cod liver</td>\n",
       "      <td>3774.000</td>\n",
       "    </tr>\n",
       "    <tr>\n",
       "      <th>32421</th>\n",
       "      <td>Fatty acids, total monounsaturated</td>\n",
       "      <td>Oil, sunflower, high oleic (70% and over)</td>\n",
       "      <td>83.689</td>\n",
       "    </tr>\n",
       "    <tr>\n",
       "      <th>287305</th>\n",
       "      <td>Fatty acids, total polyunsaturated</td>\n",
       "      <td>Oil, flaxseed</td>\n",
       "      <td>66.000</td>\n",
       "    </tr>\n",
       "    <tr>\n",
       "      <th>32778</th>\n",
       "      <td>Fatty acids, total saturated</td>\n",
       "      <td>Fish oil, menhaden, fully hydrogenated</td>\n",
       "      <td>95.600</td>\n",
       "    </tr>\n",
       "    <tr>\n",
       "      <th>33511</th>\n",
       "      <td>Fatty acids, total trans</td>\n",
       "      <td>Margarine, industrial, soy and partially hydro...</td>\n",
       "      <td>20.578</td>\n",
       "    </tr>\n",
       "    <tr>\n",
       "      <th>33515</th>\n",
       "      <td>Fatty acids, total trans-monoenoic</td>\n",
       "      <td>Margarine, industrial, soy and partially hydro...</td>\n",
       "      <td>18.970</td>\n",
       "    </tr>\n",
       "    <tr>\n",
       "      <th>33240</th>\n",
       "      <td>Fatty acids, total trans-polyenoic</td>\n",
       "      <td>Oil, industrial, soy (partially hydrogenated),...</td>\n",
       "      <td>3.543</td>\n",
       "    </tr>\n",
       "    <tr>\n",
       "      <th>229146</th>\n",
       "      <td>Fiber, total dietary</td>\n",
       "      <td>Corn bran, crude</td>\n",
       "      <td>79.000</td>\n",
       "    </tr>\n",
       "    <tr>\n",
       "      <th>336873</th>\n",
       "      <td>Fluoride, F</td>\n",
       "      <td>Tea, instant, sweetened with sugar, lemon-flav...</td>\n",
       "      <td>584.000</td>\n",
       "    </tr>\n",
       "    <tr>\n",
       "      <th>56255</th>\n",
       "      <td>Folate, DFE</td>\n",
       "      <td>Cereals ready-to-eat, QUAKER, CAP'N CRUNCH</td>\n",
       "      <td>2630.000</td>\n",
       "    </tr>\n",
       "    <tr>\n",
       "      <th>...</th>\n",
       "      <td>...</td>\n",
       "      <td>...</td>\n",
       "      <td>...</td>\n",
       "    </tr>\n",
       "    <tr>\n",
       "      <th>201782</th>\n",
       "      <td>Sodium, Na</td>\n",
       "      <td>Leavening agents, baking soda</td>\n",
       "      <td>27360.000</td>\n",
       "    </tr>\n",
       "    <tr>\n",
       "      <th>230985</th>\n",
       "      <td>Starch</td>\n",
       "      <td>Rice, white, long-grain, precooked or instant,...</td>\n",
       "      <td>73.770</td>\n",
       "    </tr>\n",
       "    <tr>\n",
       "      <th>211970</th>\n",
       "      <td>Stigmasterol</td>\n",
       "      <td>Baking chocolate, unsweetened, squares</td>\n",
       "      <td>38.000</td>\n",
       "    </tr>\n",
       "    <tr>\n",
       "      <th>221733</th>\n",
       "      <td>Sucrose</td>\n",
       "      <td>Sugars, granulated</td>\n",
       "      <td>99.800</td>\n",
       "    </tr>\n",
       "    <tr>\n",
       "      <th>221743</th>\n",
       "      <td>Sugars, total</td>\n",
       "      <td>Sugars, granulated</td>\n",
       "      <td>99.800</td>\n",
       "    </tr>\n",
       "    <tr>\n",
       "      <th>215833</th>\n",
       "      <td>Theobromine</td>\n",
       "      <td>Cocoa, dry powder, unsweetened, processed with...</td>\n",
       "      <td>2634.000</td>\n",
       "    </tr>\n",
       "    <tr>\n",
       "      <th>180736</th>\n",
       "      <td>Thiamin</td>\n",
       "      <td>MORNINGSTAR FARMS Hot and Spicy Veggie Sausage...</td>\n",
       "      <td>20.000</td>\n",
       "    </tr>\n",
       "    <tr>\n",
       "      <th>174211</th>\n",
       "      <td>Threonine</td>\n",
       "      <td>Soy protein isolate, PROTEIN TECHNOLOGIES INTE...</td>\n",
       "      <td>3.300</td>\n",
       "    </tr>\n",
       "    <tr>\n",
       "      <th>281213</th>\n",
       "      <td>Tocopherol, beta</td>\n",
       "      <td>Yellow pond lily, Wocas, dried seeds (Pacific ...</td>\n",
       "      <td>6.490</td>\n",
       "    </tr>\n",
       "    <tr>\n",
       "      <th>33682</th>\n",
       "      <td>Tocopherol, delta</td>\n",
       "      <td>Oil, cooking and salad, ENOVA, 80% diglycerides</td>\n",
       "      <td>30.880</td>\n",
       "    </tr>\n",
       "    <tr>\n",
       "      <th>33681</th>\n",
       "      <td>Tocopherol, gamma</td>\n",
       "      <td>Oil, cooking and salad, ENOVA, 80% diglycerides</td>\n",
       "      <td>100.880</td>\n",
       "    </tr>\n",
       "    <tr>\n",
       "      <th>31568</th>\n",
       "      <td>Total lipid (fat)</td>\n",
       "      <td>Oil, wheat germ</td>\n",
       "      <td>100.000</td>\n",
       "    </tr>\n",
       "    <tr>\n",
       "      <th>281158</th>\n",
       "      <td>Tryptophan</td>\n",
       "      <td>Sea lion, Steller, meat with fat (Alaska Native)</td>\n",
       "      <td>1.600</td>\n",
       "    </tr>\n",
       "    <tr>\n",
       "      <th>174218</th>\n",
       "      <td>Tyrosine</td>\n",
       "      <td>Soy protein isolate, PROTEIN TECHNOLOGIES INTE...</td>\n",
       "      <td>3.300</td>\n",
       "    </tr>\n",
       "    <tr>\n",
       "      <th>174219</th>\n",
       "      <td>Valine</td>\n",
       "      <td>Soy protein isolate, PROTEIN TECHNOLOGIES INTE...</td>\n",
       "      <td>4.500</td>\n",
       "    </tr>\n",
       "    <tr>\n",
       "      <th>32654</th>\n",
       "      <td>Vitamin A, IU</td>\n",
       "      <td>Fish oil, cod liver</td>\n",
       "      <td>100000.000</td>\n",
       "    </tr>\n",
       "    <tr>\n",
       "      <th>32656</th>\n",
       "      <td>Vitamin A, RAE</td>\n",
       "      <td>Fish oil, cod liver</td>\n",
       "      <td>30000.000</td>\n",
       "    </tr>\n",
       "    <tr>\n",
       "      <th>347345</th>\n",
       "      <td>Vitamin B-12</td>\n",
       "      <td>Mollusks, clam, mixed species, cooked, moist heat</td>\n",
       "      <td>98.890</td>\n",
       "    </tr>\n",
       "    <tr>\n",
       "      <th>66303</th>\n",
       "      <td>Vitamin B-12, added</td>\n",
       "      <td>Cereals ready-to-eat, KELLOGG, KELLOGG'S ALL-B...</td>\n",
       "      <td>24.000</td>\n",
       "    </tr>\n",
       "    <tr>\n",
       "      <th>55997</th>\n",
       "      <td>Vitamin B-6</td>\n",
       "      <td>Cereals ready-to-eat, KELLOGG, KELLOGG'S ALL-B...</td>\n",
       "      <td>12.000</td>\n",
       "    </tr>\n",
       "    <tr>\n",
       "      <th>167300</th>\n",
       "      <td>Vitamin C, total ascorbic acid</td>\n",
       "      <td>Orange-flavor drink, breakfast type, low calor...</td>\n",
       "      <td>2400.000</td>\n",
       "    </tr>\n",
       "    <tr>\n",
       "      <th>32657</th>\n",
       "      <td>Vitamin D</td>\n",
       "      <td>Fish oil, cod liver</td>\n",
       "      <td>10000.000</td>\n",
       "    </tr>\n",
       "    <tr>\n",
       "      <th>32658</th>\n",
       "      <td>Vitamin D (D2 + D3)</td>\n",
       "      <td>Fish oil, cod liver</td>\n",
       "      <td>250.000</td>\n",
       "    </tr>\n",
       "    <tr>\n",
       "      <th>141344</th>\n",
       "      <td>Vitamin D2 (ergocalciferol)</td>\n",
       "      <td>Mushrooms, maitake, raw</td>\n",
       "      <td>28.100</td>\n",
       "    </tr>\n",
       "    <tr>\n",
       "      <th>340784</th>\n",
       "      <td>Vitamin D3 (cholecalciferol)</td>\n",
       "      <td>Fish, halibut, Greenland, raw</td>\n",
       "      <td>27.400</td>\n",
       "    </tr>\n",
       "    <tr>\n",
       "      <th>31593</th>\n",
       "      <td>Vitamin E (alpha-tocopherol)</td>\n",
       "      <td>Oil, wheat germ</td>\n",
       "      <td>149.400</td>\n",
       "    </tr>\n",
       "    <tr>\n",
       "      <th>59601</th>\n",
       "      <td>Vitamin E, added</td>\n",
       "      <td>Cereals ready-to-eat, GENERAL MILLS, Multi-Gra...</td>\n",
       "      <td>46.550</td>\n",
       "    </tr>\n",
       "    <tr>\n",
       "      <th>19190</th>\n",
       "      <td>Vitamin K (phylloquinone)</td>\n",
       "      <td>Spices, sage, ground</td>\n",
       "      <td>1714.500</td>\n",
       "    </tr>\n",
       "    <tr>\n",
       "      <th>337172</th>\n",
       "      <td>Water</td>\n",
       "      <td>Water, bottled, POLAND SPRING</td>\n",
       "      <td>100.000</td>\n",
       "    </tr>\n",
       "    <tr>\n",
       "      <th>347905</th>\n",
       "      <td>Zinc, Zn</td>\n",
       "      <td>Mollusks, oyster, eastern, canned</td>\n",
       "      <td>90.950</td>\n",
       "    </tr>\n",
       "  </tbody>\n",
       "</table>\n",
       "<p>94 rows × 3 columns</p>\n",
       "</div>"
      ],
      "text/plain": [
       "                      nutrient_description  \\\n",
       "211922                    Adjusted Protein   \n",
       "216406                             Alanine   \n",
       "338824                      Alcohol, ethyl   \n",
       "142594                            Arginine   \n",
       "218421                                 Ash   \n",
       "172767                       Aspartic acid   \n",
       "33610                      Beta-sitosterol   \n",
       "230328                             Betaine   \n",
       "336702                            Caffeine   \n",
       "201671                         Calcium, Ca   \n",
       "32328                          Campesterol   \n",
       "291192         Carbohydrate, by difference   \n",
       "129331                     Carotene, alpha   \n",
       "139191                      Carotene, beta   \n",
       "151363                         Cholesterol   \n",
       "151576                      Choline, total   \n",
       "184533                          Copper, Cu   \n",
       "17607                  Cryptoxanthin, beta   \n",
       "141895                             Cystine   \n",
       "33032                 Dihydrophylloquinone   \n",
       "32642                               Energy   \n",
       "32421   Fatty acids, total monounsaturated   \n",
       "287305  Fatty acids, total polyunsaturated   \n",
       "32778         Fatty acids, total saturated   \n",
       "33511             Fatty acids, total trans   \n",
       "33515   Fatty acids, total trans-monoenoic   \n",
       "33240   Fatty acids, total trans-polyenoic   \n",
       "229146                Fiber, total dietary   \n",
       "336873                         Fluoride, F   \n",
       "56255                          Folate, DFE   \n",
       "...                                    ...   \n",
       "201782                          Sodium, Na   \n",
       "230985                              Starch   \n",
       "211970                        Stigmasterol   \n",
       "221733                             Sucrose   \n",
       "221743                       Sugars, total   \n",
       "215833                         Theobromine   \n",
       "180736                             Thiamin   \n",
       "174211                           Threonine   \n",
       "281213                    Tocopherol, beta   \n",
       "33682                    Tocopherol, delta   \n",
       "33681                    Tocopherol, gamma   \n",
       "31568                    Total lipid (fat)   \n",
       "281158                          Tryptophan   \n",
       "174218                            Tyrosine   \n",
       "174219                              Valine   \n",
       "32654                        Vitamin A, IU   \n",
       "32656                       Vitamin A, RAE   \n",
       "347345                        Vitamin B-12   \n",
       "66303                  Vitamin B-12, added   \n",
       "55997                          Vitamin B-6   \n",
       "167300      Vitamin C, total ascorbic acid   \n",
       "32657                            Vitamin D   \n",
       "32658                  Vitamin D (D2 + D3)   \n",
       "141344         Vitamin D2 (ergocalciferol)   \n",
       "340784        Vitamin D3 (cholecalciferol)   \n",
       "31593         Vitamin E (alpha-tocopherol)   \n",
       "59601                     Vitamin E, added   \n",
       "19190            Vitamin K (phylloquinone)   \n",
       "337172                               Water   \n",
       "347905                            Zinc, Zn   \n",
       "\n",
       "                                    meta_data_description       value  \n",
       "211922             Baking chocolate, unsweetened, squares      12.900  \n",
       "216406                  Gelatins, dry powder, unsweetened       8.009  \n",
       "338824  Alcoholic beverage, distilled, all (gin, rum, ...      42.500  \n",
       "142594                       Seeds, sesame flour, low-fat       7.436  \n",
       "218421             Desserts, rennin, tablets, unsweetened      72.500  \n",
       "172767                                Soy protein isolate      10.203  \n",
       "33610   Oil, vegetable, Natreon canola, high stability...     426.000  \n",
       "230328                                   Quinoa, uncooked     630.400  \n",
       "336702                  Tea, instant, unsweetened, powder    3680.000  \n",
       "201671  Leavening agents, baking powder, double-acting...    7364.000  \n",
       "32328                                         Oil, canola     241.000  \n",
       "291192        Sweeteners, tabletop, fructose, dry, powder     100.000  \n",
       "129331                                 Carrot, dehydrated   14251.000  \n",
       "139191                  Peppers, sweet, red, freeze-dried   42891.000  \n",
       "151363  Beef, variety meats and by-products, brain, co...    3100.000  \n",
       "151576  Beef, variety meats and by-products, kidneys, ...     513.200  \n",
       "184533  Veal, variety meats and by-products, liver, co...      15.050  \n",
       "17607                                     Spices, paprika    6186.000  \n",
       "141895       Seeds, cottonseed flour, low fat (glandless)       1.307  \n",
       "33032   Margarine, 80% fat, stick, includes regular an...     103.800  \n",
       "32642                                 Fish oil, cod liver    3774.000  \n",
       "32421           Oil, sunflower, high oleic (70% and over)      83.689  \n",
       "287305                                      Oil, flaxseed      66.000  \n",
       "32778              Fish oil, menhaden, fully hydrogenated      95.600  \n",
       "33511   Margarine, industrial, soy and partially hydro...      20.578  \n",
       "33515   Margarine, industrial, soy and partially hydro...      18.970  \n",
       "33240   Oil, industrial, soy (partially hydrogenated),...       3.543  \n",
       "229146                                   Corn bran, crude      79.000  \n",
       "336873  Tea, instant, sweetened with sugar, lemon-flav...     584.000  \n",
       "56255          Cereals ready-to-eat, QUAKER, CAP'N CRUNCH    2630.000  \n",
       "...                                                   ...         ...  \n",
       "201782                      Leavening agents, baking soda   27360.000  \n",
       "230985  Rice, white, long-grain, precooked or instant,...      73.770  \n",
       "211970             Baking chocolate, unsweetened, squares      38.000  \n",
       "221733                                 Sugars, granulated      99.800  \n",
       "221743                                 Sugars, granulated      99.800  \n",
       "215833  Cocoa, dry powder, unsweetened, processed with...    2634.000  \n",
       "180736  MORNINGSTAR FARMS Hot and Spicy Veggie Sausage...      20.000  \n",
       "174211  Soy protein isolate, PROTEIN TECHNOLOGIES INTE...       3.300  \n",
       "281213  Yellow pond lily, Wocas, dried seeds (Pacific ...       6.490  \n",
       "33682     Oil, cooking and salad, ENOVA, 80% diglycerides      30.880  \n",
       "33681     Oil, cooking and salad, ENOVA, 80% diglycerides     100.880  \n",
       "31568                                     Oil, wheat germ     100.000  \n",
       "281158   Sea lion, Steller, meat with fat (Alaska Native)       1.600  \n",
       "174218  Soy protein isolate, PROTEIN TECHNOLOGIES INTE...       3.300  \n",
       "174219  Soy protein isolate, PROTEIN TECHNOLOGIES INTE...       4.500  \n",
       "32654                                 Fish oil, cod liver  100000.000  \n",
       "32656                                 Fish oil, cod liver   30000.000  \n",
       "347345  Mollusks, clam, mixed species, cooked, moist heat      98.890  \n",
       "66303   Cereals ready-to-eat, KELLOGG, KELLOGG'S ALL-B...      24.000  \n",
       "55997   Cereals ready-to-eat, KELLOGG, KELLOGG'S ALL-B...      12.000  \n",
       "167300  Orange-flavor drink, breakfast type, low calor...    2400.000  \n",
       "32657                                 Fish oil, cod liver   10000.000  \n",
       "32658                                 Fish oil, cod liver     250.000  \n",
       "141344                            Mushrooms, maitake, raw      28.100  \n",
       "340784                      Fish, halibut, Greenland, raw      27.400  \n",
       "31593                                     Oil, wheat germ     149.400  \n",
       "59601   Cereals ready-to-eat, GENERAL MILLS, Multi-Gra...      46.550  \n",
       "19190                                Spices, sage, ground    1714.500  \n",
       "337172                      Water, bottled, POLAND SPRING     100.000  \n",
       "347905                  Mollusks, oyster, eastern, canned      90.950  \n",
       "\n",
       "[94 rows x 3 columns]"
      ]
     },
     "execution_count": 25,
     "metadata": {},
     "output_type": "execute_result"
    }
   ],
   "source": [
    "#1\n",
    "\n",
    "final_df.loc[final_df.groupby('nutrient_description')['value'].idxmax(), ['nutrient_description', 'meta_data_description', 'value']]"
   ]
  },
  {
   "cell_type": "code",
   "execution_count": 23,
   "metadata": {},
   "outputs": [
    {
     "name": "stdout",
     "output_type": "stream",
     "text": [
      "meta_data_group\n",
      "Fats and Oils                        0.020\n",
      "Beverages                            0.040\n",
      "Fruits and Fruit Juices              0.100\n",
      "Soups, Sauces, and Gravies           0.200\n",
      "Vegetables and Vegetable Products    0.330\n",
      "Sweets                               0.360\n",
      "Baby Foods                           0.590\n",
      "Meals, Entrees, and Sidedishes       0.630\n",
      "Baked Products                       0.660\n",
      "Finfish and Shellfish Products       0.670\n",
      "Restaurant Foods                     0.800\n",
      "Ethnic Foods                         1.045\n",
      "Cereal Grains and Pasta              1.090\n",
      "Legumes and Legume Products          1.140\n",
      "Fast Foods                           1.250\n",
      "Dairy and Egg Products               1.330\n",
      "Snacks                               1.470\n",
      "Sausages and Luncheon Meats          2.130\n",
      "Pork Products                        2.320\n",
      "Poultry Products                     2.500\n",
      "Spices and Herbs                     2.750\n",
      "Breakfast Cereals                    2.885\n",
      "Nut and Seed Products                3.290\n",
      "Lamb, Veal, and Game Products        3.940\n",
      "Beef Products                        5.390\n",
      "Name: value, dtype: float64\n"
     ]
    },
    {
     "data": {
      "image/png": "[encoded data removed]",
      "text/plain": [
       "<matplotlib.figure.Figure at 0x1321966d0>"
      ]
     },
     "metadata": {},
     "output_type": "display_data"
    }
   ],
   "source": [
    "#2.\n",
    "\n",
    "def quantile_plot(nutrient_name, quantile_value):\n",
    "    \n",
    "    \n",
    "    \n",
    "    filtered_df = final_df[final_df['nutrient_description'] == nutrient_name]\n",
    "    unit = filtered_df['units'].iloc[0]\n",
    "    grouped_df = filtered_df[filtered_df['units'] == unit]\\\n",
    "                        .groupby(['meta_data_group'])['value']\\\n",
    "                        .quantile(quantile_value)\\\n",
    "                        .sort_values(ascending= True)\n",
    "    print grouped_df\n",
    "#     plt.barh(grouped_df.index, grouped_df.values, align='center', alpha=0.5)\n",
    "    grouped_df.plot(kind='barh')\n",
    "    plt.xlabel('Value in units of %s' % unit)\n",
    "    plt.ylabel('Food groups')\n",
    "    \n",
    "quantile_plot('Zinc, Zn', .5)"
   ]
  },
  {
   "cell_type": "markdown",
   "metadata": {},
   "source": [
    "# Add Sorting "
   ]
  },
  {
   "cell_type": "markdown",
   "metadata": {},
   "source": [
    "**Classifying Digits**\n",
    "SKLearn has many intereting datasets pre-loaded in it, one of which is load_digits (sklearn.datasets.load_digits - http://scikit-learn.org/stable/modules/generated/sklearn.datasets.load_digits.html). Load_digits is a dataset of digits, with each datapoint being a 8x8 image of a digit. \n",
    "\n",
    "You can load this dataset as follows"
   ]
  },
  {
   "cell_type": "code",
   "execution_count": null,
   "metadata": {
    "collapsed": true
   },
   "outputs": [],
   "source": [
    "from sklearn.datasets import load_digits\n",
    "digits = load_digits()\n",
    "print(digits.data.shape)"
   ]
  },
  {
   "cell_type": "markdown",
   "metadata": {},
   "source": [
    "Visualize the first 15 digits to get a better understanding of the data"
   ]
  },
  {
   "cell_type": "code",
   "execution_count": 75,
   "metadata": {
    "scrolled": true
   },
   "outputs": [
    {
     "data": {
      "image/png": "[encoded data removed]",
      "text/plain": [
       "<matplotlib.figure.Figure at 0x12e310750>"
      ]
     },
     "metadata": {},
     "output_type": "display_data"
    },
    {
     "data": {
      "image/png": "[encoded data removed]",
      "text/plain": [
       "<matplotlib.figure.Figure at 0x12e333090>"
      ]
     },
     "metadata": {},
     "output_type": "display_data"
    },
    {
     "data": {
      "image/png": "[encoded data removed]",
      "text/plain": [
       "<matplotlib.figure.Figure at 0x12e39d2d0>"
      ]
     },
     "metadata": {},
     "output_type": "display_data"
    },
    {
     "data": {
      "image/png": "[encoded data removed]",
      "text/plain": [
       "<matplotlib.figure.Figure at 0x12e13a210>"
      ]
     },
     "metadata": {},
     "output_type": "display_data"
    },
    {
     "data": {
      "image/png": "[encoded data removed]",
      "text/plain": [
       "<matplotlib.figure.Figure at 0x12e38e150>"
      ]
     },
     "metadata": {},
     "output_type": "display_data"
    },
    {
     "data": {
      "image/png": "[encoded data removed]",
      "text/plain": [
       "<matplotlib.figure.Figure at 0x12df00f90>"
      ]
     },
     "metadata": {},
     "output_type": "display_data"
    },
    {
     "data": {
      "image/png": "[encoded data removed]",
      "text/plain": [
       "<matplotlib.figure.Figure at 0x12e22af90>"
      ]
     },
     "metadata": {},
     "output_type": "display_data"
    },
    {
     "data": {
      "image/png": "[encoded data removed]",
      "text/plain": [
       "<matplotlib.figure.Figure at 0x12dfb5e10>"
      ]
     },
     "metadata": {},
     "output_type": "display_data"
    },
    {
     "data": {
      "image/png": "[encoded data removed]",
      "text/plain": [
       "<matplotlib.figure.Figure at 0x12e6ffe10>"
      ]
     },
     "metadata": {},
     "output_type": "display_data"
    },
    {
     "data": {
      "image/png": "[encoded data removed]",
      "text/plain": [
       "<matplotlib.figure.Figure at 0x12e75fd50>"
      ]
     },
     "metadata": {},
     "output_type": "display_data"
    },
    {
     "data": {
      "image/png": "[encoded data removed]",
      "text/plain": [
       "<matplotlib.figure.Figure at 0x12e962c90>"
      ]
     },
     "metadata": {},
     "output_type": "display_data"
    },
    {
     "data": {
      "image/png": "[encoded data removed]",
      "text/plain": [
       "<matplotlib.figure.Figure at 0x12ea37bd0>"
      ]
     },
     "metadata": {},
     "output_type": "display_data"
    },
    {
     "data": {
      "image/png": "[encoded data removed]",
      "text/plain": [
       "<matplotlib.figure.Figure at 0x12eacfb10>"
      ]
     },
     "metadata": {},
     "output_type": "display_data"
    },
    {
     "data": {
      "image/png": "[encoded data removed]",
      "text/plain": [
       "<matplotlib.figure.Figure at 0x12eb37fd0>"
      ]
     },
     "metadata": {},
     "output_type": "display_data"
    },
    {
     "data": {
      "image/png": "[encoded data removed]",
      "text/plain": [
       "<matplotlib.figure.Figure at 0x12ebe3fd0>"
      ]
     },
     "metadata": {},
     "output_type": "display_data"
    }
   ],
   "source": [
    "for i in range(0, 15):\n",
    "    plt.imshow(digits.images[i]) \n",
    "    plt.show()"
   ]
  },
  {
   "cell_type": "markdown",
   "metadata": {},
   "source": [
    "**Dimensionality Reduction - PCA**\n",
    "\n",
    "Principal Component Analysis is a very powerful unsupervised method for dimensionality reduction in data. \n",
    "\n",
    "Apply dimensionality reduction technique PCA (Principle Component Analysis) on the prev dataset - load_digits(). \n",
    "Use the sklearn inbuilt tool sklearn.decomposition.PCA\n",
    "\n",
    "Print the shape of the matrix before and after the application of PCA on the dataset. Using variance, analyze the ammount of information thrown away and plot the variance(cumulative) against the number of components  (2)\n",
    "\n",
    "Try other dimensionality reduction techniques - sklearn.decomposition.RandomizedPCA, sklearn.decomposition.FastICA  as well \n",
    "(this extended analysis need not be submitted as part of homework)\n"
   ]
  },
  {
   "cell_type": "code",
   "execution_count": 76,
   "metadata": {},
   "outputs": [
    {
     "name": "stdout",
     "output_type": "stream",
     "text": [
      "Before PCA: (1797, 64)\n",
      "After PCA: (1797, 30)\n"
     ]
    }
   ],
   "source": [
    "#print the shape before and after the PCA\n",
    "print \"Before PCA: %s\" % str(digits.data.shape)\n",
    "\n",
    "from sklearn.decomposition import PCA\n",
    "K=30\n",
    "pca = PCA(n_components=K)\n",
    "pca.fit(digits.data)\n",
    "T=pca.transform(digits.data)\n",
    "print \"After PCA: %s\" % str(T.shape)"
   ]
  },
  {
   "cell_type": "code",
   "execution_count": 81,
   "metadata": {},
   "outputs": [
    {
     "data": {
      "text/plain": [
       "[<matplotlib.lines.Line2D at 0x12f104050>]"
      ]
     },
     "execution_count": 81,
     "metadata": {},
     "output_type": "execute_result"
    },
    {
     "data": {
      "image/png": "[encoded data removed]",
      "text/plain": [
       "<matplotlib.figure.Figure at 0x12f030ed0>"
      ]
     },
     "metadata": {},
     "output_type": "display_data"
    }
   ],
   "source": [
    "pca = PCA(n_components=64)\n",
    "pca.fit(digits.data)\n",
    "cumulative_explained = cumsum(pca.explained_variance_ratio_) \n",
    "plt.plot(cumulative_explained)"
   ]
  },
  {
   "cell_type": "code",
   "execution_count": null,
   "metadata": {
    "collapsed": true
   },
   "outputs": [],
   "source": [
    "#Try other dimensionality reduction techniques - sklearn.decomposition.RandomizedPCA, sklearn.decomposition.FastICA  as well \n",
    "#(this extended analysis need not be submitted as part of homework)\n",
    "# bonus??"
   ]
  }
 ],
 "metadata": {
  "anaconda-cloud": {},
  "kernelspec": {
   "display_name": "Python [Root]",
   "language": "python",
   "name": "Python [Root]"
  },
  "language_info": {
   "codemirror_mode": {
    "name": "ipython",
    "version": 2
   },
   "file_extension": ".py",
   "mimetype": "text/x-python",
   "name": "python",
   "nbconvert_exporter": "python",
   "pygments_lexer": "ipython2",
   "version": "2.7.13"
  }
 },
 "nbformat": 4,
 "nbformat_minor": 1
}
