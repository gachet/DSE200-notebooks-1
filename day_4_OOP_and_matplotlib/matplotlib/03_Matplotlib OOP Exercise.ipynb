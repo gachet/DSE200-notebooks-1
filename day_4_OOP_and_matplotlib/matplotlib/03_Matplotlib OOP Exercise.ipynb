{
 "cells": [
  {
   "cell_type": "markdown",
   "metadata": {},
   "source": [
    "### Matplotlib Object Oriented Programming Exercises"
   ]
  },
  {
   "cell_type": "markdown",
   "metadata": {},
   "source": [
    "In this exercise we will write a class which will take a pandas dataframe and output a set of plots describing the dataframe. For this we will use data from http://earthquake.usgs.gov/ which maintains csv files corresponding to data of earthquake occurrences sorted according to earthquakes magnitude, ranging from significant only down to all earthquakes, major or minor. The csv files are available here "
   ]
  },
  {
   "cell_type": "code",
   "execution_count": 1,
   "metadata": {
    "collapsed": true
   },
   "outputs": [],
   "source": [
    "feed=\"http://earthquake.usgs.gov/earthquakes/feed/v1.0/summary/\""
   ]
  },
  {
   "cell_type": "code",
   "execution_count": 2,
   "metadata": {},
   "outputs": [
    {
     "name": "stdout",
     "output_type": "stream",
     "text": [
      "Populating the interactive namespace from numpy and matplotlib\n"
     ]
    }
   ],
   "source": [
    "import numpy as np\n",
    "import pandas as pd\n",
    "#import urllib2\n",
    "import matplotlib as mpl\n",
    "%pylab inline"
   ]
  },
  {
   "cell_type": "markdown",
   "metadata": {},
   "source": [
    "Check if you have the updated version of Matplotlib i.e 1.5.0. If not you can udate it using linux command sudo pip install --upgrade matplotlib for unix boxes and corresponding brew command for mac"
   ]
  },
  {
   "cell_type": "code",
   "execution_count": 3,
   "metadata": {
    "scrolled": true
   },
   "outputs": [
    {
     "name": "stdout",
     "output_type": "stream",
     "text": [
      "1.5.3\n"
     ]
    }
   ],
   "source": [
    "print mpl.__version__"
   ]
  },
  {
   "cell_type": "markdown",
   "metadata": {},
   "source": [
    "### Acquiring Data ###\n",
    "\n",
    "For this assignment we will be working with the following csv files\n",
    "\n",
    "1. Significant earthquakes in the last 30 days : feed + \"significant_month.csv\"\n",
    "2. Magnitude > 4.5 : feed + \"4.5_month.csv\"\n",
    "3. Magnitude > 2.5 : feed + \"2.5_month.csv\"\n",
    "4. Magnitude > 1.0 : feed + \"1.0_month.csv\""
   ]
  },
  {
   "cell_type": "markdown",
   "metadata": {},
   "source": [
    "### Q1 (answered)\n",
    "Write a function which takes an integer input from 1 to 4 and outputs a pandas dataframe corresponding to the csv file above. Note that the function should necessarily download the data from the website via internet."
   ]
  },
  {
   "cell_type": "code",
   "execution_count": 4,
   "metadata": {
    "collapsed": true
   },
   "outputs": [],
   "source": [
    "filenames=[\"significant_month.csv\",\n",
    "           \"4.5_month.csv\",\n",
    "           \"2.5_month.csv\",\n",
    "           \"1.0_month.csv\"]\n",
    "def download_data(i):\n",
    "    url=feed+filenames[i-1];\n",
    "    print 'downloading',url\n",
    "    return pd.read_csv(url);"
   ]
  },
  {
   "cell_type": "code",
   "execution_count": 5,
   "metadata": {
    "scrolled": false
   },
   "outputs": [
    {
     "name": "stdout",
     "output_type": "stream",
     "text": [
      "downloading http://earthquake.usgs.gov/earthquakes/feed/v1.0/summary/significant_month.csv\n",
      "downloading http://earthquake.usgs.gov/earthquakes/feed/v1.0/summary/4.5_month.csv\n",
      "downloading http://earthquake.usgs.gov/earthquakes/feed/v1.0/summary/2.5_month.csv\n",
      "downloading http://earthquake.usgs.gov/earthquakes/feed/v1.0/summary/1.0_month.csv\n"
     ]
    },
    {
     "data": {
      "text/html": [
       "<div>\n",
       "<table border=\"1\" class=\"dataframe\">\n",
       "  <thead>\n",
       "    <tr style=\"text-align: right;\">\n",
       "      <th></th>\n",
       "      <th>time</th>\n",
       "      <th>latitude</th>\n",
       "      <th>longitude</th>\n",
       "      <th>depth</th>\n",
       "      <th>mag</th>\n",
       "      <th>magType</th>\n",
       "      <th>nst</th>\n",
       "      <th>gap</th>\n",
       "      <th>dmin</th>\n",
       "      <th>rms</th>\n",
       "      <th>...</th>\n",
       "      <th>updated</th>\n",
       "      <th>place</th>\n",
       "      <th>type</th>\n",
       "      <th>horizontalError</th>\n",
       "      <th>depthError</th>\n",
       "      <th>magError</th>\n",
       "      <th>magNst</th>\n",
       "      <th>status</th>\n",
       "      <th>locationSource</th>\n",
       "      <th>magSource</th>\n",
       "    </tr>\n",
       "  </thead>\n",
       "  <tbody>\n",
       "    <tr>\n",
       "      <th>0</th>\n",
       "      <td>2016-11-04T16:20:43.940Z</td>\n",
       "      <td>-35.1033</td>\n",
       "      <td>-70.9964</td>\n",
       "      <td>90.79</td>\n",
       "      <td>6.4</td>\n",
       "      <td>mwp</td>\n",
       "      <td>NaN</td>\n",
       "      <td>60</td>\n",
       "      <td>0.357</td>\n",
       "      <td>1.10</td>\n",
       "      <td>...</td>\n",
       "      <td>2016-11-04T21:17:52.400Z</td>\n",
       "      <td>25km ESE of Curico, Chile</td>\n",
       "      <td>earthquake</td>\n",
       "      <td>6.5</td>\n",
       "      <td>5.5</td>\n",
       "      <td>0.041</td>\n",
       "      <td>73</td>\n",
       "      <td>reviewed</td>\n",
       "      <td>us</td>\n",
       "      <td>us</td>\n",
       "    </tr>\n",
       "    <tr>\n",
       "      <th>1</th>\n",
       "      <td>2016-11-02T04:26:54.200Z</td>\n",
       "      <td>36.3077</td>\n",
       "      <td>-96.6472</td>\n",
       "      <td>2.56</td>\n",
       "      <td>4.5</td>\n",
       "      <td>mwr</td>\n",
       "      <td>NaN</td>\n",
       "      <td>65</td>\n",
       "      <td>0.136</td>\n",
       "      <td>0.62</td>\n",
       "      <td>...</td>\n",
       "      <td>2016-11-04T20:07:39.540Z</td>\n",
       "      <td>14km ESE of Pawnee, Oklahoma</td>\n",
       "      <td>earthquake</td>\n",
       "      <td>1.2</td>\n",
       "      <td>6.7</td>\n",
       "      <td>0.037</td>\n",
       "      <td>70</td>\n",
       "      <td>reviewed</td>\n",
       "      <td>us</td>\n",
       "      <td>us</td>\n",
       "    </tr>\n",
       "    <tr>\n",
       "      <th>2</th>\n",
       "      <td>2016-10-31T00:20:12.590Z</td>\n",
       "      <td>3.4372</td>\n",
       "      <td>-74.4445</td>\n",
       "      <td>44.00</td>\n",
       "      <td>5.4</td>\n",
       "      <td>mb</td>\n",
       "      <td>NaN</td>\n",
       "      <td>46</td>\n",
       "      <td>1.403</td>\n",
       "      <td>0.78</td>\n",
       "      <td>...</td>\n",
       "      <td>2016-11-03T21:39:38.000Z</td>\n",
       "      <td>40km E of Colombia, Colombia</td>\n",
       "      <td>earthquake</td>\n",
       "      <td>6.6</td>\n",
       "      <td>5.1</td>\n",
       "      <td>0.023</td>\n",
       "      <td>658</td>\n",
       "      <td>reviewed</td>\n",
       "      <td>us</td>\n",
       "      <td>us</td>\n",
       "    </tr>\n",
       "    <tr>\n",
       "      <th>3</th>\n",
       "      <td>2016-10-30T06:40:19.200Z</td>\n",
       "      <td>42.8547</td>\n",
       "      <td>13.0884</td>\n",
       "      <td>10.00</td>\n",
       "      <td>6.6</td>\n",
       "      <td>mww</td>\n",
       "      <td>NaN</td>\n",
       "      <td>28</td>\n",
       "      <td>0.181</td>\n",
       "      <td>1.16</td>\n",
       "      <td>...</td>\n",
       "      <td>2016-11-04T14:50:11.138Z</td>\n",
       "      <td>6km N of Norcia, Italy</td>\n",
       "      <td>earthquake</td>\n",
       "      <td>5.1</td>\n",
       "      <td>1.7</td>\n",
       "      <td>NaN</td>\n",
       "      <td>NaN</td>\n",
       "      <td>reviewed</td>\n",
       "      <td>us</td>\n",
       "      <td>us</td>\n",
       "    </tr>\n",
       "    <tr>\n",
       "      <th>4</th>\n",
       "      <td>2016-10-26T19:18:08.320Z</td>\n",
       "      <td>42.9343</td>\n",
       "      <td>13.0434</td>\n",
       "      <td>10.00</td>\n",
       "      <td>6.1</td>\n",
       "      <td>mww</td>\n",
       "      <td>NaN</td>\n",
       "      <td>21</td>\n",
       "      <td>0.249</td>\n",
       "      <td>1.24</td>\n",
       "      <td>...</td>\n",
       "      <td>2016-11-01T17:41:13.766Z</td>\n",
       "      <td>3km W of Visso, Italy</td>\n",
       "      <td>earthquake</td>\n",
       "      <td>4.9</td>\n",
       "      <td>1.7</td>\n",
       "      <td>NaN</td>\n",
       "      <td>NaN</td>\n",
       "      <td>reviewed</td>\n",
       "      <td>us</td>\n",
       "      <td>us</td>\n",
       "    </tr>\n",
       "  </tbody>\n",
       "</table>\n",
       "<p>5 rows × 22 columns</p>\n",
       "</div>"
      ],
      "text/plain": [
       "                       time  latitude  longitude  depth  mag magType  nst  \\\n",
       "0  2016-11-04T16:20:43.940Z  -35.1033   -70.9964  90.79  6.4     mwp  NaN   \n",
       "1  2016-11-02T04:26:54.200Z   36.3077   -96.6472   2.56  4.5     mwr  NaN   \n",
       "2  2016-10-31T00:20:12.590Z    3.4372   -74.4445  44.00  5.4      mb  NaN   \n",
       "3  2016-10-30T06:40:19.200Z   42.8547    13.0884  10.00  6.6     mww  NaN   \n",
       "4  2016-10-26T19:18:08.320Z   42.9343    13.0434  10.00  6.1     mww  NaN   \n",
       "\n",
       "   gap   dmin   rms    ...                      updated  \\\n",
       "0   60  0.357  1.10    ...     2016-11-04T21:17:52.400Z   \n",
       "1   65  0.136  0.62    ...     2016-11-04T20:07:39.540Z   \n",
       "2   46  1.403  0.78    ...     2016-11-03T21:39:38.000Z   \n",
       "3   28  0.181  1.16    ...     2016-11-04T14:50:11.138Z   \n",
       "4   21  0.249  1.24    ...     2016-11-01T17:41:13.766Z   \n",
       "\n",
       "                          place        type horizontalError depthError  \\\n",
       "0     25km ESE of Curico, Chile  earthquake             6.5        5.5   \n",
       "1  14km ESE of Pawnee, Oklahoma  earthquake             1.2        6.7   \n",
       "2  40km E of Colombia, Colombia  earthquake             6.6        5.1   \n",
       "3        6km N of Norcia, Italy  earthquake             5.1        1.7   \n",
       "4         3km W of Visso, Italy  earthquake             4.9        1.7   \n",
       "\n",
       "   magError  magNst    status  locationSource magSource  \n",
       "0     0.041      73  reviewed              us        us  \n",
       "1     0.037      70  reviewed              us        us  \n",
       "2     0.023     658  reviewed              us        us  \n",
       "3       NaN     NaN  reviewed              us        us  \n",
       "4       NaN     NaN  reviewed              us        us  \n",
       "\n",
       "[5 rows x 22 columns]"
      ]
     },
     "execution_count": 5,
     "metadata": {},
     "output_type": "execute_result"
    }
   ],
   "source": [
    "last_30 = download_data(1)\n",
    "data_45 = download_data(2)\n",
    "data_25 = download_data(3)\n",
    "data_10 = download_data(4)\n",
    "last_30.head()"
   ]
  },
  {
   "cell_type": "markdown",
   "metadata": {},
   "source": [
    "### Q2) Analyzing the data ###\n",
    "\n",
    "In order to understand the data we will plot different attributes of the data using tools provided by matplotlib.\n",
    "In order to do that, we will first create a class object for the given dataframe.\n",
    "\n",
    "2.1) The class will have a set of functions to generate different plots. The first function will output a histogram taking column type as input. The column type is restricted to latitude or longitude. Take default interval size as 10 degrees\n",
    "\n",
    "2.2) Write another function which when called will output a scatter plot of longitude vs. latitude. For extra credit represent each earthquake by a circle whose area is proporportional to the strength of the earthquake."
   ]
  },
  {
   "cell_type": "code",
   "execution_count": 7,
   "metadata": {},
   "outputs": [],
   "source": [
    "class dataPlot(object):\n",
    "    \"\"\"dataPlot takes a pandas dataframe as input and outputs different plots correspondng to the input dataframe\"\"\"\n",
    "    \n",
    "    def __init__(self,df):\n",
    "        \"\"\"Initialize variables\"\"\"\n",
    "        raise \"TODO\"\n",
    "        \n",
    "    def histogram(self,col):\n",
    "        raise \"TODO\"\n",
    "        \n",
    "    def scatter(self,col1,col2):\n",
    "        raise \"TODO\"  "
   ]
  },
  {
   "cell_type": "code",
   "execution_count": 8,
   "metadata": {},
   "outputs": [
    {
     "ename": "TypeError",
     "evalue": "exceptions must be old-style classes or derived from BaseException, not str",
     "output_type": "error",
     "traceback": [
      "\u001b[0;31m---------------------------------------------------------------------------\u001b[0m",
      "\u001b[0;31mTypeError\u001b[0m                                 Traceback (most recent call last)",
      "\u001b[0;32m<ipython-input-8-fe64fa4d89a2>\u001b[0m in \u001b[0;36m<module>\u001b[0;34m()\u001b[0m\n\u001b[1;32m      1\u001b[0m \u001b[0;31m#The folloring command should now generate a histogram and a scatter-plot\u001b[0m\u001b[0;34m\u001b[0m\u001b[0;34m\u001b[0m\u001b[0m\n\u001b[0;32m----> 2\u001b[0;31m \u001b[0mD\u001b[0m\u001b[0;34m=\u001b[0m\u001b[0mdataPlot\u001b[0m\u001b[0;34m(\u001b[0m\u001b[0mdata_45\u001b[0m\u001b[0;34m)\u001b[0m\u001b[0;34m\u001b[0m\u001b[0m\n\u001b[0m\u001b[1;32m      3\u001b[0m \u001b[0mD\u001b[0m\u001b[0;34m.\u001b[0m\u001b[0mhistogram\u001b[0m\u001b[0;34m(\u001b[0m\u001b[0;34m'mag'\u001b[0m\u001b[0;34m)\u001b[0m\u001b[0;34m\u001b[0m\u001b[0m\n\u001b[1;32m      4\u001b[0m \u001b[0mD\u001b[0m\u001b[0;34m.\u001b[0m\u001b[0mscatter\u001b[0m\u001b[0;34m(\u001b[0m\u001b[0;34m'longitude'\u001b[0m\u001b[0;34m,\u001b[0m\u001b[0;34m'latitude'\u001b[0m\u001b[0;34m)\u001b[0m\u001b[0;34m\u001b[0m\u001b[0m\n",
      "\u001b[0;32m<ipython-input-7-b80d4ad8ef26>\u001b[0m in \u001b[0;36m__init__\u001b[0;34m(self, df)\u001b[0m\n\u001b[1;32m      4\u001b[0m     \u001b[0;32mdef\u001b[0m \u001b[0m__init__\u001b[0m\u001b[0;34m(\u001b[0m\u001b[0mself\u001b[0m\u001b[0;34m,\u001b[0m\u001b[0mdf\u001b[0m\u001b[0;34m)\u001b[0m\u001b[0;34m:\u001b[0m\u001b[0;34m\u001b[0m\u001b[0m\n\u001b[1;32m      5\u001b[0m         \u001b[0;34m\"\"\"Initialize variables\"\"\"\u001b[0m\u001b[0;34m\u001b[0m\u001b[0m\n\u001b[0;32m----> 6\u001b[0;31m         \u001b[0;32mraise\u001b[0m \u001b[0;34m\"TODO\"\u001b[0m\u001b[0;34m\u001b[0m\u001b[0m\n\u001b[0m\u001b[1;32m      7\u001b[0m \u001b[0;34m\u001b[0m\u001b[0m\n\u001b[1;32m      8\u001b[0m     \u001b[0;32mdef\u001b[0m \u001b[0mhistogram\u001b[0m\u001b[0;34m(\u001b[0m\u001b[0mself\u001b[0m\u001b[0;34m,\u001b[0m\u001b[0mcol\u001b[0m\u001b[0;34m)\u001b[0m\u001b[0;34m:\u001b[0m\u001b[0;34m\u001b[0m\u001b[0m\n",
      "\u001b[0;31mTypeError\u001b[0m: exceptions must be old-style classes or derived from BaseException, not str"
     ]
    }
   ],
   "source": [
    "#The folloring command should now generate a histogram and a scatter-plot\n",
    "D=dataPlot(data_45)\n",
    "D.histogram('longitude')\n",
    "D.scatter('longitude','latitude')"
   ]
  },
  {
   "cell_type": "markdown",
   "metadata": {},
   "source": [
    "### Q3) Plotting data on the map ###"
   ]
  },
  {
   "cell_type": "markdown",
   "metadata": {
    "scrolled": true
   },
   "source": [
    "In the last class we had used ipyleaflet to plot the weather data. Now we will use ipyleaflet to plot the earthquake data, and further enhance it with a rain animation to indicate the severity of the incident. We will start initially with the dataset corresponding to earthquakes magnitude > 4.5"
   ]
  },
  {
   "cell_type": "code",
   "execution_count": 9,
   "metadata": {},
   "outputs": [
    {
     "name": "stdout",
     "output_type": "stream",
     "text": [
      "downloading http://earthquake.usgs.gov/earthquakes/feed/v1.0/summary/4.5_month.csv\n"
     ]
    }
   ],
   "source": [
    "data_45 = download_data(2)"
   ]
  },
  {
   "cell_type": "markdown",
   "metadata": {},
   "source": [
    "First we will import necessary libraries"
   ]
  },
  {
   "cell_type": "code",
   "execution_count": 10,
   "metadata": {
    "collapsed": true
   },
   "outputs": [],
   "source": [
    "from ipyleaflet import (\n",
    "    Map,\n",
    "    Marker,\n",
    "    TileLayer, ImageOverlay,\n",
    "    Polyline, Polygon, Rectangle, Circle, CircleMarker,\n",
    "    GeoJSON,\n",
    "    DrawControl\n",
    ")"
   ]
  },
  {
   "cell_type": "markdown",
   "metadata": {},
   "source": [
    "Write a function that takes as input a dataframe and plots a map and on top of the map a circle at the location of each earthquake in the dataframe.\n",
    "\n",
    "Use size to convey the intensity of each earthquake. Make the the circles semi-transparent so that the intensity of the color conveys (because of multiple overlappings) the number of earthquakes that have occured.\n",
    "\n",
    "Finally wrap the function in a class that has methods for plotting an array of scatterplots from the same data-frame, each for a different time period. For example, if the data is only for Feb 2017 and you decide to plot weekly, then the function should plot four scatterplots total (2/1-2/7, 2/8-2/14 etc.)  with their corresponding earthquakes."
   ]
  },
  {
   "cell_type": "code",
   "execution_count": null,
   "metadata": {
    "collapsed": true
   },
   "outputs": [],
   "source": []
  }
 ],
 "metadata": {
  "kernelspec": {
   "display_name": "Python [Root]",
   "language": "python",
   "name": "Python [Root]"
  },
  "language_info": {
   "codemirror_mode": {
    "name": "ipython",
    "version": 2
   },
   "file_extension": ".py",
   "mimetype": "text/x-python",
   "name": "python",
   "nbconvert_exporter": "python",
   "pygments_lexer": "ipython2",
   "version": "2.7.13"
  }
 },
 "nbformat": 4,
 "nbformat_minor": 1
}
